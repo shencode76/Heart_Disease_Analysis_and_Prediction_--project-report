{
  "cells":[
    {
      "cell_type":"markdown",
      "source":[
        "<center> <h2> DS 3000 - Summer 2021<\/h2> <\/center>\n",
        "<center> <h3> DS Report <\/h3> <\/center>"
      ],
      "attachments":{
        
      },
      "metadata":{
        
      }
    },
    {
      "cell_type":"markdown",
      "source":[
        "<center> <h3> Is there any pathological factors are related to heart disease prediction  <\/h3> <\/center>\n",
        "<center><h4> Qi Li, Ruoxuan Wang, Yuxi Shen<\/h4><\/center>\n"
      ],
      "attachments":{
        
      },
      "metadata":{
        
      }
    },
    {
      "cell_type":"markdown",
      "source":[
        "## Executive Summary\n",
        "\n",
        "Heart disease is a serious medical emergency and the leading cause of death. Here we seek to create a machine learning model to predict heart disease and determine factors associated with heart disease. We combined four data frames and determined the most important features using recursive feature elimination (RFE), model based, and selectKBest feature selection. The presence of absence of heart disease was represented as the angiographic disease status of a patient (target variable). We visualized the distribution of some features for each target variable and the correlation between all the variables on a heatmap and scatter matrix. Our machine learning model was based on K-Nearest Neighbor, Support Vector Machine, Gaussian Naive Bayes, and Decision Tree algorithms. K-Nearest Neighbor is the best predictor of heart disease with RFE feature selection when the dataset is split into 75% and 25%. It had a testing set accuracy of .798."
      ],
      "attachments":{
        
      },
      "metadata":{
        
      }
    },
    {
      "cell_type":"markdown",
      "source":[
        "<hr style=\"height:2px; border:none; color:black; background-color:black;\">"
      ],
      "attachments":{
        
      },
      "metadata":{
        
      }
    },
    {
      "cell_type":"markdown",
      "source":[
        "## Outline\n",
        "1. <a href='#1'>INTRODUCTION<\/a>\n",
        "2. <a href='#2'>METHOD<\/a>\n",
        "3. <a href='#3'>RESULTS<\/a>\n",
        "4. <a href='#4'>DISCUSSION<\/a>"
      ],
      "attachments":{
        
      },
      "metadata":{
        
      }
    },
    {
      "cell_type":"markdown",
      "source":[
        "<hr style=\"height:2px; border:none; color:black; background-color:black;\">"
      ],
      "attachments":{
        
      },
      "metadata":{
        
      }
    },
    {
      "cell_type":"markdown",
      "source":[
        "## 1. INTRODUCTION"
      ],
      "attachments":{
        
      },
      "metadata":{
        
      }
    },
    {
      "cell_type":"markdown",
      "source":[
        "**Problem Statement:**\n",
        "\n",
        "In this project titled Heart Disease Analysis and Prediction, we seek to build a model that can predict the probability of heart disease according to the physical characteristics that describe the disease. Heart disease is a serious medical emergency, so being able to predict the onset of heart disease accurately may allow for its detection early on and save many lives. \n",
        "\n",
        "To determine the presence or absence of heart disease, we chose to the predict angiographic disease status of a patient based on their symptoms. Angiographic disease status is a good indicator of heart disease as it represents the percentage of diameter stenosis (diameter of vessel in reference to the luminal diameter) (Blokh & Stambler, 2015). Additionally, it has been associated with the onset of acute coronary syndrome, which is an umbrella term that occurs when there is a sudden and reduced blood flow to the heart and can be used to describe a myriad of conditions such as heart attack (Mayo Clinic, 2021). Such conditions are believed to appear when there is an angiographic disease status such that lesions less than 50% diameter stenosis arise (Mancini et al., 2011). \n",
        "\n",
        "First, we sought to determine the characteristics which were the strongest indicator of heart disease to refine our machine learning model. Once we determined the strongest indicators of heart disease, our second objective was to use these features to determine which classification machine learning model was the best predictor of heart disease using various supervised learning algorithms. Our project tackles a classification problem since the target variable (angiographic disease status) is categorical. \n",
        "\n",
        "**Significance of the Problem**\n",
        "\n",
        "Heart disease is the leading cause of death for men, women, and people of most racial and ethnic groups in the whole world, accounting for one-third of deaths in 2019. Currently, one person dies every 36 seconds in the United States from cardiovascular disease and the death toll continues to rise (CDC, 2020). By studying relevant indicators of heart disease through data mining, we may be able to predict the angiographic disease status, which would play a vital role in the prevention and treatment of heart diseases. \n",
        "\n",
        "\n",
        "**Previous Work on the Topic**\n",
        "\n",
        "Doctors and scholars around the world are actively exploring which pathological factors can be used as controllable conditions for predicting heart disease. Specifcally, studies have found that age can be considered a metamarker for heart disease when used in combination with other factors (Blokh & Stambler, 2015). Heart rate has also been deemed as an important risk factor to heart disease, as it has been found that an increase in heart rate has been associated with an increase in blood pressure and risk of caridac death (Perret-Guillaume et al., 2009). Despite the long held belief that high levels of cholesterol are considered a major cause of heart disease, recent studies suggest otherwise (Ravnskov et al., 2018). Another major indicator of heart disease is the ST segment\/heart rate slope which shows exercise-induced increments in heart rate. In exercise electrocardiograms, an ST depression is typically an indicator of heart disease. However, recent studies have shown that false positive ST depression is extremely common in low risk populations (Carlén et al., 2019). Yet another factor to consider when predicting the onset of heart disease is the presence of preexisting conditions. Thalessmia is an inherited hemoglobin disorder and can lead to many cardiac compliciations, which are the primary cause of mortality for patients with Thalassemia (Kremastinos et al., 2010). The discrepancies and plethora of pathological factors influencing heart disease, suggest a greater need for this project. \n",
        "\n",
        "There have been many previous machine learning model studies seeking to predict heart disease. While some have found that the k-nearest neighbors algorithm was the most accurate in predicting the onset of heart disease (Shah et al., 2020), other studies have found that the support vector machine algorithms were the most accurate (Krittanawong et al.,2020). Despite all these studies, there is still no consensus on the most accurate machine learning model used to predict heart disease. Thus, we seek to further investigate this in our project. \n",
        "\n",
        "**Research Questions and Hypotheses**\n",
        "\n",
        "1. Is an increase in cholesterol correlated with the onset of heart disease?\n",
        "   - Null: An increase in cholesterol is not correlated with more cases of heart disease.\n",
        "   - Alternative: An increase in cholesterol is correlated with more cases of heart disease. \n",
        "\n",
        "2. Does ST depression indicate the presence of heart disease?\n",
        "   - Null: ST depression does not indicate the presence of heart disease.\n",
        "   - Alternative: ST depression indicates the presence of heart disease. \n",
        "\n",
        "3. Are patients with Thalassemia more likely to suffer from heart disease than patients without Thalassemia? \n",
        "    - Null: Patients with Thalassemia are not more likely to suffer from heart disease than patients without.  \n",
        "    - Alternative: Patients with Thalassemia are more likely to suffer from heart disease than patients without.  \n",
        "\n",
        "4. Can we train a supervised machine learning model to accurately predict heart disease? If so, will k-Nearest Neighbor be the machine learning algorithm that works best? \n",
        "    - Null: K-Nearest Neighbor will not be the machine learning algorithm that works best.\n",
        "    - Alternative: k-Nearest Neighbor will be the machine learning model which will have the highest accuracy in predicting heart disease.\n",
        "\n",
        "5. Will features selection drastically improve the accuracies of the models?\n",
        "\n",
        "    - Null: Feature selection will NOT drastically improve the accuracies of the models.\n",
        "    - Alternative: Feature selection will drastically improve the accuracies of the models.\n",
        "\n",
        "6. Will different split methods drastically change the predictions accuracies of models?\n",
        "     * Null: Different split methods will NOT drastically change the accuracies of the models.\n",
        "     * Alternative: Different split methods will drastically change the accuracies of the models."
      ],
      "attachments":{
        
      },
      "metadata":{
        
      }
    },
    {
      "cell_type":"markdown",
      "source":[
        "#### References\n",
        "\n",
        "Blokh, D., & Stambler, I. (2015). Information Theoretical Analysis of Aging as a Risk Factor for Heart Disease. Aging and Disease, 6(3), 196. https:\/\/doi.org\/10.14336\/ad.2014.0623 \n",
        "\n",
        "Carlén, A., Gustafsson, M., Åström Aneq, M., & Nylander, E. (2019). Exercise-induced ST depression in an asymptomatic population without coronary artery disease. Scandinavian Cardiovascular Journal, 53(4), 206–212. https:\/\/doi.org\/10.1080\/14017431.2019.1626021 \n",
        "\n",
        "Centers for Disease Control and Prevention. (2020, September 8). Heart Disease Facts. Centers for Disease Control and Prevention. https:\/\/www.cdc.gov\/heartdisease\/facts.htm. \n",
        "\n",
        "Kremastinos, D. T., Farmakis, D., Aessopos, A., Hahalis, G., Hamodraka, E., Tsiapras, D., &amp; Keren, A. (2010). β-Thalassemia Cardiomyopathy. Circulation: Heart Failure, 3(3), 451–458. https:\/\/doi.org\/10.1161\/circheartfailure.109.913863 \n",
        "\n",
        "Krittanawong, C., Virk, H. U., Bangalore, S., Wang, Z., Johnson, K. W., Pinotti, R., Zhang, H. J., Kaplin, S., Narasimhan, B., Kitai, T., Baber, U., Halperin, J. L., & Tang, W. H. (2020). Machine learning prediction in cardiovascular diseases: a meta-analysis. Scientific Reports, 10(1). https:\/\/doi.org\/10.1038\/s41598-020-72685-1 \n",
        "\n",
        "Mancini, G. B. J., Hartigan, P. M., Bates, E. R., Sedlis, S. P., Maron, D. J., Spertus, J. A., Berman, D. S., Kostuk, W. J., Shaw, L. J., Weintraub, W. S., Teo, K. K., Dada, M., Chaitman, B. R., O'Rourke, R. A., & Boden, W. E. (2011). Angiographic Disease Progression and Residual Risk of Cardiovascular Events While on Optimal Medical Therapy. Circulation: Cardiovascular Interventions, 4(6), 545–552. https:\/\/doi.org\/10.1161\/circinterventions.110.960062 \n",
        "\n",
        "Mayo Foundation for Medical Education and Research. (2021, May 18). Acute coronary syndrome. Mayo Clinic. https:\/\/www.mayoclinic.org\/diseases-conditions\/acute-coronary-syndrome\/symptoms-causes\/syc-20352136. \n",
        "\n",
        "Perret-Guillaume, C., Joly, L., & Benetos, A. (2009). Heart Rate as a Risk Factor for Cardiovascular Disease. Progress in Cardiovascular Diseases, 52(1), 6–10. https:\/\/doi.org\/10.1016\/j.pcad.2009.05.003 \n",
        "\n",
        "Ravnskov, U., de Lorgeril, M., Diamond, D. M., Hama, R., Hamazaki, T., Hammarskjöld, B., Hynes, N., Kendrick, M., Langsjoen, P. H., Mascitelli, L., McCully, K. S., Okuyama, H., Rosch, P. J., Schersten, T., Sultan, S., & Sundberg, R. (2018). LDL-C does not cause cardiovascular disease: a comprehensive review of the current literature. Expert Review of Clinical Pharmacology, 11(10), 959–970. https:\/\/doi.org\/10.1080\/17512433.2018.1519391 \n",
        "\n",
        "Shah, D., Patel, S., & Bharti, S. K. (2020). Heart Disease Prediction using Machine Learning Techniques. SN Computer Science, 1(6). https:\/\/doi.org\/10.1007\/s42979-020-00365-y "
      ],
      "attachments":{
        
      },
      "metadata":{
        
      }
    },
    {
      "cell_type":"markdown",
      "source":[
        "<hr style=\"height:2px; border:none; color:black; background-color:black;\">"
      ],
      "attachments":{
        
      },
      "metadata":{
        
      }
    },
    {
      "cell_type":"markdown",
      "source":[
        "## 2. METHODS"
      ],
      "attachments":{
        
      },
      "metadata":{
        
      }
    },
    {
      "cell_type":"markdown",
      "source":[
        "### 2.1 Data Acquisition\n",
        "\n",
        "\n",
        "online repository & original resources:\n",
        "\n",
        "The final dataset containing over 1000 rows is under the file FP_new_dataset.csv and can be found at https:\/\/github.com\/shencode76\/ds3000-final-project\/blob\/main\/FP_new_dataset.csv\n",
        "Our FP_new_dataset.csv is composed of dak.csv, heart.csv, data.csv, Heart_Disease_Prediction.csv, and these four dataset are also included on the same GitHub page : https:\/\/github.com\/shencode76\/ds3000-final-project.\n",
        "\n",
        "Our final dataframe consists of 4 inidivudal dataframes joined together. All of the 4 datasets contained the same x aount of features (list below). etc \n",
        "These four datasets are cited from both **Kaggle** and **Data World websites**:\n",
        "\n",
        "Heart Attack Prediction. (2018a, April 25). Kaggle. https:\/\/www.kaggle.com\/imnikhilanand\/heart-attack-prediction\n",
        "\n",
        "Heart Disease UCI. (2018). Kaggle. https:\/\/www.kaggle.com\/ronitf\/heart-disease-uci\n",
        "\n",
        "Heart Disease Prediction (2019). Data World. https:\/\/data.world\/informatics-edu\/heart-disease-prediction?oauthError=github\n",
        "\n",
        "Heart Disease (2016). Data World. https:\/\/data.world\/uci\/heart-disease\/workspace\/file?filename=bak.csv\n",
        "\n",
        "We aim to explore more about the relationships between different variables provided by the UCI's four Heart Disease Prediction datasets and the result of Heart Disease. While the databases have 76 raw attributes, only 14 of them are actually used.(UCI Heart Disease Dataset, UCI). With combining the datasets from differnt websites, we get the 'FP_new_dataset' as the resource of our training and testing set.\n",
        "\n",
        "Our final dataset is the combination of four datasets about heart disease prediction obtained from different data websites（ Kaggle and dataworld website）. The four datasets we downloaded are all related data or subsets of the original UCI heart disease Dataset(https:\/\/archive.ics.uci.edu\/ml\/datasets\/Heart+Disease).\n",
        "\n",
        "\n",
        "\n",
        "Only 14 attributes used:\n",
        "(Further explanation provided with '-'. All the 0 value represents NaN values of the specific feature)\n",
        "1. #3 (age) : age of the patients in record \n",
        "2. #4 (sex) : sex of the patients in record (1 = female, 2 = male)\n",
        "3. #9 (cp) : the chest pain type the patient suffering(level from 1 to 4) \n",
        "4. #12 (chol) : chol refers to the sum of cholesterol contained in all lipoproteins in the blood. Its serum concentration can be used as an indicator of lipid metabolism \n",
        "5. #16 (fbs) : fasting blood sugar > 120 mg\/dl (1 = true; 2 = false) \n",
        "6. #19 (restecg) : resting electrocardiographic results \n",
        "  Electrocardiography is a commonly used, noninvasive procedure for recording electrical changes in the heart, which shows the series of waves that relate to the electrical impulses which occur during each beat of the heart. \n",
        "8. #32 (thalach) : maximum heart rate achieved \n",
        "9. #38 (exang) : exercise induced angina \n",
        "  Exercise-induced angina (AP) is a common complaint of cardiac patients, particularly when exercising in the cold. \n",
        "10.  #40 (oldpeak) : ST depression induced by exercise relative to rest.\n",
        "  ST depression : ST depression in ECG at entry indicates severe coronary lesions and large benefits of an early invasive treatment strategy in unstable coronary artery disease\n",
        "11.  #41 (slope) : the slope of the peak exercise ST segment\n",
        "12.  #44 (ca) : number of major vessels (0-3) colored by flourosopy\n",
        "13.  #51 (thal) : Thalassemia is an inherited blood disorder that causes your body to have less hemoglobin than normal.(3 = normal; 6 = fixed defect; 7 = reversable defect)\n",
        "14.  #58 (num) (the predicted attribute) : represented by 1(have Heart Disease), 0(never happened)\n",
        "    \n",
        "--- (description retrieved from Heart Disease Data set. UCI. https:\/\/archive.ics.uci.edu\/ml\/datasets\/Heart+Disease)\n"
      ],
      "attachments":{
        
      },
      "metadata":{
        
      }
    },
    {
      "cell_type":"markdown",
      "source":[
        "### 2.2. Data Analysis\n",
        "\n",
        "**Independent Variables (feature variables)**\n",
        "1. age\n",
        "2. sex\n",
        "3. value of cp\n",
        "4. value of trestbps\n",
        "5. value of chol \n",
        "6. value of fbs\n",
        "7. value of restecg\n",
        "8. value of thalachh\n",
        "9. value of exng\n",
        "10. value of oldpeak\n",
        "11. value of slp\n",
        "12. value of caa\n",
        "13. value of thal \n",
        "\n",
        "**Dependent Variables (target variable)**\n",
        "1. diagnosis of Heart Disease. \n",
        "\n",
        "**Dataset context**\n",
        "\n",
        "Our features are all the independent variables listed above. To compose a concrete credible dataset, We have already modified data from different datasets in the previous step. They are already continuous, numerical data points, so we don't have to do any feature engineering with them in the further parts of our project. \n",
        "\n",
        "Our dataset does include a set of feature variables and one outcome variable. The dataset contains 13 feature outcomes that indicate the physical features of each case and one outcome variable which indicates the angiographic disease status, which is a good predictor of heart disease symptoms. Therefore, the dataset is good to apply on a supervised machine learning task to predict the onset of heart disease symptoms.\n",
        "\n",
        "**Our project trackles a classification problem**\n",
        "\n",
        "Our project tackles a classification problem since the target variables are categorical, which is the diagnosis of Heart Disease, expressed in 0 or 1. This is also a categorical numerical value, which is naturally a target variable for a classification model.\n",
        " Our goal is to build a machine learning model to predict the probability of heart disease according to the physical characteristics that describe the disease. The target variables are the diagnosis of heart disease, which are divided into two categories: Value 0: < 50% diameter narrowing (Absence) or Value 1: > 50% diameter narrowing (Presence). This is a supervised ML problem because each row has a known heart disease condition, so we would be creating or training a model to classify data or predict outcomes accurately. \n",
        "\n",
        "**Machine Learning Algorithm**\n",
        "\n",
        "We plan to use k-Nearest Neighbors, Support Vector Machines, Gaussian Naive Bayes and Decision Trees to apply to our data. We chose these machine learning algortihms because these are all alogrithms used to build a classification machine learning model. \n",
        "\n",
        "\n",
        "**Rationales to each algorithm**\n",
        "\n",
        "K-Nearest Neighbors :\n",
        "Predict a sample’s class(output) by looking at the k(number of neighbors) training samples nearest in \"distance\" to the sample.KNN is easy to understand and computing effectively.\n",
        "\n",
        "Support Vector Machines: \n",
        "SVM draws and uses the line that maximizes the margin between the line and nearest data points. \n",
        "\n",
        "Gaussian Naive Bayes :\n",
        "Gaussian Naive Bayes is a probabilistic classification algorithm. Features in our dataset are equally important, and independent from our dataset(shown by the scatter plot about the correlation between all features in Data Exploration part).\n",
        "\n",
        "Decision Trees:\n",
        "The Decision Trees algorithm searches over all possible questions and finds the one that is most informative about the target variable. This algorithm fits well for out project, since we have a mixture of feature types(categorical, continuous, binary)."
      ],
      "attachments":{
        
      },
      "metadata":{
        
      }
    },
    {
      "cell_type":"markdown",
      "source":[
        "<hr style=\"height:2px; border:none; color:black; background-color:black;\">"
      ],
      "attachments":{
        
      },
      "metadata":{
        
      }
    },
    {
      "cell_type":"markdown",
      "source":[
        "## 3. RESULTS"
      ],
      "attachments":{
        
      },
      "metadata":{
        
      }
    },
    {
      "cell_type":"markdown",
      "source":[
        "### 3.1. Data Wrangling"
      ],
      "attachments":{
        
      },
      "metadata":{
        
      }
    },
    {
      "cell_type":"code",
      "source":[
        "from scipy import stats\n",
        "import pandas as pd\n",
        "\n",
        "# Our FP_new_dataset.csv is composed of dak.csv, heart.csv, data.csv, Heart_Disease_Prediction.csv\n",
        "# heart.csv\n",
        "dfheart = pd.read_csv('heart.csv')\n",
        "# data.csv\n",
        "dfdata = pd.read_csv('data.csv')\n",
        "# Heart_Disease_Prediction.csv\n",
        "dfheart_pred = pd.read_csv('Heart_Disease_Prediction.csv')\n",
        "# bak.csv\n",
        "dfbak = pd.read_csv('bak.csv')\n",
        "\n",
        "# we are going to replace the old columns names by the new column names(the dfheart's column names)\n",
        "old_names = list(dfdata.columns)\n",
        "new_names = list(dfheart.columns)\n",
        "dfdata.columns = new_names\n",
        "dfheart_pred.columns = new_names\n",
        "dfbak.columns = new_names"
      ],
      "execution_count":113,
      "outputs":[
        
      ],
      "metadata":{
        
      }
    },
    {
      "cell_type":"markdown",
      "source":[
        "## Adjust for Prediction\n",
        "We want to forecast, or predict, the diagnosis of the partient. So we need to adjust the column values to a united columns."
      ],
      "attachments":{
        
      },
      "metadata":{
        
      }
    },
    {
      "cell_type":"code",
      "source":[
        "#0,1 -> 1,2, 0: NaN\n",
        "dfheart.sex.replace({0:1, 1:2}, inplace = True)\n",
        "# 0,1,2,3 -> 1,2,3,4, 0:NaN\n",
        "dfheart.cp.replace({0:1, 1:2, 2:3, 3:4}, inplace = True)\n",
        "# replace the original data to 1:true, 2: false, 0: nan\n",
        "dfheart.fbs.replace({0:2}, inplace = True)\n",
        "#012 -> 123, 0: nan\n",
        "dfheart.restecg.replace({0:1, 1:2, 2:3}, inplace = True)\n",
        "# 0,1 -> 1,2, 0:NaN\n",
        "dfheart.exng.replace({0:1, 1:2}, inplace = True)\n",
        "# 4->3\n",
        "dfheart.caa.replace({4:3}, inplace = True)\n",
        "# thall's level : 3, 6, 7\n",
        "dfheart.thall.replace({1:3, 2:6, 3:7}, inplace = True)\n",
        "\n",
        "df = dfheart\n",
        "dfheart.head(10)"
      ],
      "execution_count":114,
      "outputs":[
        {
          "data":{
            "text\/html":[
              "<div>\n",
              "<style scoped>\n",
              "    .dataframe tbody tr th:only-of-type {\n",
              "        vertical-align: middle;\n",
              "    }\n",
              "\n",
              "    .dataframe tbody tr th {\n",
              "        vertical-align: top;\n",
              "    }\n",
              "\n",
              "    .dataframe thead th {\n",
              "        text-align: right;\n",
              "    }\n",
              "<\/style>\n",
              "<table border=\"1\" class=\"dataframe\">\n",
              "  <thead>\n",
              "    <tr style=\"text-align: right;\">\n",
              "      <th><\/th>\n",
              "      <th>age<\/th>\n",
              "      <th>sex<\/th>\n",
              "      <th>cp<\/th>\n",
              "      <th>trtbps<\/th>\n",
              "      <th>chol<\/th>\n",
              "      <th>fbs<\/th>\n",
              "      <th>restecg<\/th>\n",
              "      <th>thalachh<\/th>\n",
              "      <th>exng<\/th>\n",
              "      <th>oldpeak<\/th>\n",
              "      <th>slp<\/th>\n",
              "      <th>caa<\/th>\n",
              "      <th>thall<\/th>\n",
              "      <th>output<\/th>\n",
              "    <\/tr>\n",
              "  <\/thead>\n",
              "  <tbody>\n",
              "    <tr>\n",
              "      <th>0<\/th>\n",
              "      <td>63<\/td>\n",
              "      <td>2<\/td>\n",
              "      <td>4<\/td>\n",
              "      <td>145<\/td>\n",
              "      <td>233<\/td>\n",
              "      <td>1<\/td>\n",
              "      <td>1<\/td>\n",
              "      <td>150<\/td>\n",
              "      <td>1<\/td>\n",
              "      <td>2.3<\/td>\n",
              "      <td>0<\/td>\n",
              "      <td>0<\/td>\n",
              "      <td>3<\/td>\n",
              "      <td>1<\/td>\n",
              "    <\/tr>\n",
              "    <tr>\n",
              "      <th>1<\/th>\n",
              "      <td>37<\/td>\n",
              "      <td>2<\/td>\n",
              "      <td>3<\/td>\n",
              "      <td>130<\/td>\n",
              "      <td>250<\/td>\n",
              "      <td>2<\/td>\n",
              "      <td>2<\/td>\n",
              "      <td>187<\/td>\n",
              "      <td>1<\/td>\n",
              "      <td>3.5<\/td>\n",
              "      <td>0<\/td>\n",
              "      <td>0<\/td>\n",
              "      <td>6<\/td>\n",
              "      <td>1<\/td>\n",
              "    <\/tr>\n",
              "    <tr>\n",
              "      <th>2<\/th>\n",
              "      <td>41<\/td>\n",
              "      <td>1<\/td>\n",
              "      <td>2<\/td>\n",
              "      <td>130<\/td>\n",
              "      <td>204<\/td>\n",
              "      <td>2<\/td>\n",
              "      <td>1<\/td>\n",
              "      <td>172<\/td>\n",
              "      <td>1<\/td>\n",
              "      <td>1.4<\/td>\n",
              "      <td>2<\/td>\n",
              "      <td>0<\/td>\n",
              "      <td>6<\/td>\n",
              "      <td>1<\/td>\n",
              "    <\/tr>\n",
              "    <tr>\n",
              "      <th>3<\/th>\n",
              "      <td>56<\/td>\n",
              "      <td>2<\/td>\n",
              "      <td>2<\/td>\n",
              "      <td>120<\/td>\n",
              "      <td>236<\/td>\n",
              "      <td>2<\/td>\n",
              "      <td>2<\/td>\n",
              "      <td>178<\/td>\n",
              "      <td>1<\/td>\n",
              "      <td>0.8<\/td>\n",
              "      <td>2<\/td>\n",
              "      <td>0<\/td>\n",
              "      <td>6<\/td>\n",
              "      <td>1<\/td>\n",
              "    <\/tr>\n",
              "    <tr>\n",
              "      <th>4<\/th>\n",
              "      <td>57<\/td>\n",
              "      <td>1<\/td>\n",
              "      <td>1<\/td>\n",
              "      <td>120<\/td>\n",
              "      <td>354<\/td>\n",
              "      <td>2<\/td>\n",
              "      <td>2<\/td>\n",
              "      <td>163<\/td>\n",
              "      <td>2<\/td>\n",
              "      <td>0.6<\/td>\n",
              "      <td>2<\/td>\n",
              "      <td>0<\/td>\n",
              "      <td>6<\/td>\n",
              "      <td>1<\/td>\n",
              "    <\/tr>\n",
              "    <tr>\n",
              "      <th>5<\/th>\n",
              "      <td>57<\/td>\n",
              "      <td>2<\/td>\n",
              "      <td>1<\/td>\n",
              "      <td>140<\/td>\n",
              "      <td>192<\/td>\n",
              "      <td>2<\/td>\n",
              "      <td>2<\/td>\n",
              "      <td>148<\/td>\n",
              "      <td>1<\/td>\n",
              "      <td>0.4<\/td>\n",
              "      <td>1<\/td>\n",
              "      <td>0<\/td>\n",
              "      <td>3<\/td>\n",
              "      <td>1<\/td>\n",
              "    <\/tr>\n",
              "    <tr>\n",
              "      <th>6<\/th>\n",
              "      <td>56<\/td>\n",
              "      <td>1<\/td>\n",
              "      <td>2<\/td>\n",
              "      <td>140<\/td>\n",
              "      <td>294<\/td>\n",
              "      <td>2<\/td>\n",
              "      <td>1<\/td>\n",
              "      <td>153<\/td>\n",
              "      <td>1<\/td>\n",
              "      <td>1.3<\/td>\n",
              "      <td>1<\/td>\n",
              "      <td>0<\/td>\n",
              "      <td>6<\/td>\n",
              "      <td>1<\/td>\n",
              "    <\/tr>\n",
              "    <tr>\n",
              "      <th>7<\/th>\n",
              "      <td>44<\/td>\n",
              "      <td>2<\/td>\n",
              "      <td>2<\/td>\n",
              "      <td>120<\/td>\n",
              "      <td>263<\/td>\n",
              "      <td>2<\/td>\n",
              "      <td>2<\/td>\n",
              "      <td>173<\/td>\n",
              "      <td>1<\/td>\n",
              "      <td>0.0<\/td>\n",
              "      <td>2<\/td>\n",
              "      <td>0<\/td>\n",
              "      <td>7<\/td>\n",
              "      <td>1<\/td>\n",
              "    <\/tr>\n",
              "    <tr>\n",
              "      <th>8<\/th>\n",
              "      <td>52<\/td>\n",
              "      <td>2<\/td>\n",
              "      <td>3<\/td>\n",
              "      <td>172<\/td>\n",
              "      <td>199<\/td>\n",
              "      <td>1<\/td>\n",
              "      <td>2<\/td>\n",
              "      <td>162<\/td>\n",
              "      <td>1<\/td>\n",
              "      <td>0.5<\/td>\n",
              "      <td>2<\/td>\n",
              "      <td>0<\/td>\n",
              "      <td>7<\/td>\n",
              "      <td>1<\/td>\n",
              "    <\/tr>\n",
              "    <tr>\n",
              "      <th>9<\/th>\n",
              "      <td>57<\/td>\n",
              "      <td>2<\/td>\n",
              "      <td>3<\/td>\n",
              "      <td>150<\/td>\n",
              "      <td>168<\/td>\n",
              "      <td>2<\/td>\n",
              "      <td>2<\/td>\n",
              "      <td>174<\/td>\n",
              "      <td>1<\/td>\n",
              "      <td>1.6<\/td>\n",
              "      <td>2<\/td>\n",
              "      <td>0<\/td>\n",
              "      <td>6<\/td>\n",
              "      <td>1<\/td>\n",
              "    <\/tr>\n",
              "  <\/tbody>\n",
              "<\/table>\n",
              "<\/div>"
            ]
          },
          "metadata":{
            
          },
          "output_type":"display_data"
        }
      ],
      "metadata":{
        
      }
    },
    {
      "cell_type":"code",
      "source":[
        "#0,1 -> 1,2, 0: NaN\n",
        "dfdata.sex.replace({0:1, 1:2}, inplace = True)\n",
        "# replace the original from 1:true, 0:false, To 1:true, 2: false, 0: nan\n",
        "dfdata.fbs.replace({'0':'2'}, inplace = True)\n",
        "#012 -> 123, 0: nan\n",
        "dfdata.restecg.replace({'0':'1', '1':'2', '2':'3'}, inplace = True)\n",
        "# 0,1 -> 1,2,0 : NaN\n",
        "dfdata.exng.replace({'0':'1', '1':'2'}, inplace = True)\n",
        "\n",
        "# add the dfdata to df \n",
        "df = df.append(dfdata, ignore_index=True)\n",
        "dfdata.head(10)"
      ],
      "execution_count":57,
      "outputs":[
        {
          "data":{
            "text\/html":[
              "<div>\n",
              "<style scoped>\n",
              "    .dataframe tbody tr th:only-of-type {\n",
              "        vertical-align: middle;\n",
              "    }\n",
              "\n",
              "    .dataframe tbody tr th {\n",
              "        vertical-align: top;\n",
              "    }\n",
              "\n",
              "    .dataframe thead th {\n",
              "        text-align: right;\n",
              "    }\n",
              "<\/style>\n",
              "<table border=\"1\" class=\"dataframe\">\n",
              "  <thead>\n",
              "    <tr style=\"text-align: right;\">\n",
              "      <th><\/th>\n",
              "      <th>age<\/th>\n",
              "      <th>sex<\/th>\n",
              "      <th>cp<\/th>\n",
              "      <th>trtbps<\/th>\n",
              "      <th>chol<\/th>\n",
              "      <th>fbs<\/th>\n",
              "      <th>restecg<\/th>\n",
              "      <th>thalachh<\/th>\n",
              "      <th>exng<\/th>\n",
              "      <th>oldpeak<\/th>\n",
              "      <th>slp<\/th>\n",
              "      <th>caa<\/th>\n",
              "      <th>thall<\/th>\n",
              "      <th>output<\/th>\n",
              "    <\/tr>\n",
              "  <\/thead>\n",
              "  <tbody>\n",
              "    <tr>\n",
              "      <th>0<\/th>\n",
              "      <td>28<\/td>\n",
              "      <td>2<\/td>\n",
              "      <td>2<\/td>\n",
              "      <td>130<\/td>\n",
              "      <td>132<\/td>\n",
              "      <td>2<\/td>\n",
              "      <td>3<\/td>\n",
              "      <td>185<\/td>\n",
              "      <td>1<\/td>\n",
              "      <td>0.0<\/td>\n",
              "      <td>?<\/td>\n",
              "      <td>?<\/td>\n",
              "      <td>?<\/td>\n",
              "      <td>0<\/td>\n",
              "    <\/tr>\n",
              "    <tr>\n",
              "      <th>1<\/th>\n",
              "      <td>29<\/td>\n",
              "      <td>2<\/td>\n",
              "      <td>2<\/td>\n",
              "      <td>120<\/td>\n",
              "      <td>243<\/td>\n",
              "      <td>2<\/td>\n",
              "      <td>1<\/td>\n",
              "      <td>160<\/td>\n",
              "      <td>1<\/td>\n",
              "      <td>0.0<\/td>\n",
              "      <td>?<\/td>\n",
              "      <td>?<\/td>\n",
              "      <td>?<\/td>\n",
              "      <td>0<\/td>\n",
              "    <\/tr>\n",
              "    <tr>\n",
              "      <th>2<\/th>\n",
              "      <td>29<\/td>\n",
              "      <td>2<\/td>\n",
              "      <td>2<\/td>\n",
              "      <td>140<\/td>\n",
              "      <td>?<\/td>\n",
              "      <td>2<\/td>\n",
              "      <td>1<\/td>\n",
              "      <td>170<\/td>\n",
              "      <td>1<\/td>\n",
              "      <td>0.0<\/td>\n",
              "      <td>?<\/td>\n",
              "      <td>?<\/td>\n",
              "      <td>?<\/td>\n",
              "      <td>0<\/td>\n",
              "    <\/tr>\n",
              "    <tr>\n",
              "      <th>3<\/th>\n",
              "      <td>30<\/td>\n",
              "      <td>1<\/td>\n",
              "      <td>1<\/td>\n",
              "      <td>170<\/td>\n",
              "      <td>237<\/td>\n",
              "      <td>2<\/td>\n",
              "      <td>2<\/td>\n",
              "      <td>170<\/td>\n",
              "      <td>1<\/td>\n",
              "      <td>0.0<\/td>\n",
              "      <td>?<\/td>\n",
              "      <td>?<\/td>\n",
              "      <td>6<\/td>\n",
              "      <td>0<\/td>\n",
              "    <\/tr>\n",
              "    <tr>\n",
              "      <th>4<\/th>\n",
              "      <td>31<\/td>\n",
              "      <td>1<\/td>\n",
              "      <td>2<\/td>\n",
              "      <td>100<\/td>\n",
              "      <td>219<\/td>\n",
              "      <td>2<\/td>\n",
              "      <td>2<\/td>\n",
              "      <td>150<\/td>\n",
              "      <td>1<\/td>\n",
              "      <td>0.0<\/td>\n",
              "      <td>?<\/td>\n",
              "      <td>?<\/td>\n",
              "      <td>?<\/td>\n",
              "      <td>0<\/td>\n",
              "    <\/tr>\n",
              "    <tr>\n",
              "      <th>5<\/th>\n",
              "      <td>32<\/td>\n",
              "      <td>1<\/td>\n",
              "      <td>2<\/td>\n",
              "      <td>105<\/td>\n",
              "      <td>198<\/td>\n",
              "      <td>2<\/td>\n",
              "      <td>1<\/td>\n",
              "      <td>165<\/td>\n",
              "      <td>1<\/td>\n",
              "      <td>0.0<\/td>\n",
              "      <td>?<\/td>\n",
              "      <td>?<\/td>\n",
              "      <td>?<\/td>\n",
              "      <td>0<\/td>\n",
              "    <\/tr>\n",
              "    <tr>\n",
              "      <th>6<\/th>\n",
              "      <td>32<\/td>\n",
              "      <td>2<\/td>\n",
              "      <td>2<\/td>\n",
              "      <td>110<\/td>\n",
              "      <td>225<\/td>\n",
              "      <td>2<\/td>\n",
              "      <td>1<\/td>\n",
              "      <td>184<\/td>\n",
              "      <td>1<\/td>\n",
              "      <td>0.0<\/td>\n",
              "      <td>?<\/td>\n",
              "      <td>?<\/td>\n",
              "      <td>?<\/td>\n",
              "      <td>0<\/td>\n",
              "    <\/tr>\n",
              "    <tr>\n",
              "      <th>7<\/th>\n",
              "      <td>32<\/td>\n",
              "      <td>2<\/td>\n",
              "      <td>2<\/td>\n",
              "      <td>125<\/td>\n",
              "      <td>254<\/td>\n",
              "      <td>2<\/td>\n",
              "      <td>1<\/td>\n",
              "      <td>155<\/td>\n",
              "      <td>1<\/td>\n",
              "      <td>0.0<\/td>\n",
              "      <td>?<\/td>\n",
              "      <td>?<\/td>\n",
              "      <td>?<\/td>\n",
              "      <td>0<\/td>\n",
              "    <\/tr>\n",
              "    <tr>\n",
              "      <th>8<\/th>\n",
              "      <td>33<\/td>\n",
              "      <td>2<\/td>\n",
              "      <td>3<\/td>\n",
              "      <td>120<\/td>\n",
              "      <td>298<\/td>\n",
              "      <td>2<\/td>\n",
              "      <td>1<\/td>\n",
              "      <td>185<\/td>\n",
              "      <td>1<\/td>\n",
              "      <td>0.0<\/td>\n",
              "      <td>?<\/td>\n",
              "      <td>?<\/td>\n",
              "      <td>?<\/td>\n",
              "      <td>0<\/td>\n",
              "    <\/tr>\n",
              "    <tr>\n",
              "      <th>9<\/th>\n",
              "      <td>34<\/td>\n",
              "      <td>1<\/td>\n",
              "      <td>2<\/td>\n",
              "      <td>130<\/td>\n",
              "      <td>161<\/td>\n",
              "      <td>2<\/td>\n",
              "      <td>1<\/td>\n",
              "      <td>190<\/td>\n",
              "      <td>1<\/td>\n",
              "      <td>0.0<\/td>\n",
              "      <td>?<\/td>\n",
              "      <td>?<\/td>\n",
              "      <td>?<\/td>\n",
              "      <td>0<\/td>\n",
              "    <\/tr>\n",
              "  <\/tbody>\n",
              "<\/table>\n",
              "<\/div>"
            ]
          },
          "metadata":{
            
          },
          "output_type":"display_data"
        }
      ],
      "metadata":{
        
      }
    },
    {
      "cell_type":"code",
      "source":[
        "#0,1 -> 1,2, 0: NaN\n",
        "dfheart_pred.sex.replace({0:1, 1:2}, inplace = True)\n",
        "# replace the original from 1:true, 0:false, To 1:true, 2: false, 0: nan\n",
        "dfheart_pred.fbs.replace({0:2}, inplace = True)\n",
        "# replace absence and presence with 0,1\n",
        "dfheart_pred.replace(\"Absence\", \"0\",inplace = True)\n",
        "dfheart_pred.replace(\"Presence\", \"1\",inplace = True)\n",
        "\n",
        "# add dfheart_pred to df\n",
        "df = df.append(dfheart_pred, ignore_index=True)\n",
        "dfheart_pred.head(10)"
      ],
      "execution_count":58,
      "outputs":[
        {
          "data":{
            "text\/html":[
              "<div>\n",
              "<style scoped>\n",
              "    .dataframe tbody tr th:only-of-type {\n",
              "        vertical-align: middle;\n",
              "    }\n",
              "\n",
              "    .dataframe tbody tr th {\n",
              "        vertical-align: top;\n",
              "    }\n",
              "\n",
              "    .dataframe thead th {\n",
              "        text-align: right;\n",
              "    }\n",
              "<\/style>\n",
              "<table border=\"1\" class=\"dataframe\">\n",
              "  <thead>\n",
              "    <tr style=\"text-align: right;\">\n",
              "      <th><\/th>\n",
              "      <th>age<\/th>\n",
              "      <th>sex<\/th>\n",
              "      <th>cp<\/th>\n",
              "      <th>trtbps<\/th>\n",
              "      <th>chol<\/th>\n",
              "      <th>fbs<\/th>\n",
              "      <th>restecg<\/th>\n",
              "      <th>thalachh<\/th>\n",
              "      <th>exng<\/th>\n",
              "      <th>oldpeak<\/th>\n",
              "      <th>slp<\/th>\n",
              "      <th>caa<\/th>\n",
              "      <th>thall<\/th>\n",
              "      <th>output<\/th>\n",
              "    <\/tr>\n",
              "  <\/thead>\n",
              "  <tbody>\n",
              "    <tr>\n",
              "      <th>0<\/th>\n",
              "      <td>70<\/td>\n",
              "      <td>2<\/td>\n",
              "      <td>4<\/td>\n",
              "      <td>130<\/td>\n",
              "      <td>322<\/td>\n",
              "      <td>2<\/td>\n",
              "      <td>2<\/td>\n",
              "      <td>109<\/td>\n",
              "      <td>0<\/td>\n",
              "      <td>2.4<\/td>\n",
              "      <td>2<\/td>\n",
              "      <td>3<\/td>\n",
              "      <td>3<\/td>\n",
              "      <td>1<\/td>\n",
              "    <\/tr>\n",
              "    <tr>\n",
              "      <th>1<\/th>\n",
              "      <td>67<\/td>\n",
              "      <td>1<\/td>\n",
              "      <td>3<\/td>\n",
              "      <td>115<\/td>\n",
              "      <td>564<\/td>\n",
              "      <td>2<\/td>\n",
              "      <td>2<\/td>\n",
              "      <td>160<\/td>\n",
              "      <td>0<\/td>\n",
              "      <td>1.6<\/td>\n",
              "      <td>2<\/td>\n",
              "      <td>0<\/td>\n",
              "      <td>7<\/td>\n",
              "      <td>0<\/td>\n",
              "    <\/tr>\n",
              "    <tr>\n",
              "      <th>2<\/th>\n",
              "      <td>57<\/td>\n",
              "      <td>2<\/td>\n",
              "      <td>2<\/td>\n",
              "      <td>124<\/td>\n",
              "      <td>261<\/td>\n",
              "      <td>2<\/td>\n",
              "      <td>0<\/td>\n",
              "      <td>141<\/td>\n",
              "      <td>0<\/td>\n",
              "      <td>0.3<\/td>\n",
              "      <td>1<\/td>\n",
              "      <td>0<\/td>\n",
              "      <td>7<\/td>\n",
              "      <td>1<\/td>\n",
              "    <\/tr>\n",
              "    <tr>\n",
              "      <th>3<\/th>\n",
              "      <td>64<\/td>\n",
              "      <td>2<\/td>\n",
              "      <td>4<\/td>\n",
              "      <td>128<\/td>\n",
              "      <td>263<\/td>\n",
              "      <td>2<\/td>\n",
              "      <td>0<\/td>\n",
              "      <td>105<\/td>\n",
              "      <td>1<\/td>\n",
              "      <td>0.2<\/td>\n",
              "      <td>2<\/td>\n",
              "      <td>1<\/td>\n",
              "      <td>7<\/td>\n",
              "      <td>0<\/td>\n",
              "    <\/tr>\n",
              "    <tr>\n",
              "      <th>4<\/th>\n",
              "      <td>74<\/td>\n",
              "      <td>1<\/td>\n",
              "      <td>2<\/td>\n",
              "      <td>120<\/td>\n",
              "      <td>269<\/td>\n",
              "      <td>2<\/td>\n",
              "      <td>2<\/td>\n",
              "      <td>121<\/td>\n",
              "      <td>1<\/td>\n",
              "      <td>0.2<\/td>\n",
              "      <td>1<\/td>\n",
              "      <td>1<\/td>\n",
              "      <td>3<\/td>\n",
              "      <td>0<\/td>\n",
              "    <\/tr>\n",
              "    <tr>\n",
              "      <th>5<\/th>\n",
              "      <td>65<\/td>\n",
              "      <td>2<\/td>\n",
              "      <td>4<\/td>\n",
              "      <td>120<\/td>\n",
              "      <td>177<\/td>\n",
              "      <td>2<\/td>\n",
              "      <td>0<\/td>\n",
              "      <td>140<\/td>\n",
              "      <td>0<\/td>\n",
              "      <td>0.4<\/td>\n",
              "      <td>1<\/td>\n",
              "      <td>0<\/td>\n",
              "      <td>7<\/td>\n",
              "      <td>0<\/td>\n",
              "    <\/tr>\n",
              "    <tr>\n",
              "      <th>6<\/th>\n",
              "      <td>56<\/td>\n",
              "      <td>2<\/td>\n",
              "      <td>3<\/td>\n",
              "      <td>130<\/td>\n",
              "      <td>256<\/td>\n",
              "      <td>1<\/td>\n",
              "      <td>2<\/td>\n",
              "      <td>142<\/td>\n",
              "      <td>1<\/td>\n",
              "      <td>0.6<\/td>\n",
              "      <td>2<\/td>\n",
              "      <td>1<\/td>\n",
              "      <td>6<\/td>\n",
              "      <td>1<\/td>\n",
              "    <\/tr>\n",
              "    <tr>\n",
              "      <th>7<\/th>\n",
              "      <td>59<\/td>\n",
              "      <td>2<\/td>\n",
              "      <td>4<\/td>\n",
              "      <td>110<\/td>\n",
              "      <td>239<\/td>\n",
              "      <td>2<\/td>\n",
              "      <td>2<\/td>\n",
              "      <td>142<\/td>\n",
              "      <td>1<\/td>\n",
              "      <td>1.2<\/td>\n",
              "      <td>2<\/td>\n",
              "      <td>1<\/td>\n",
              "      <td>7<\/td>\n",
              "      <td>1<\/td>\n",
              "    <\/tr>\n",
              "    <tr>\n",
              "      <th>8<\/th>\n",
              "      <td>60<\/td>\n",
              "      <td>2<\/td>\n",
              "      <td>4<\/td>\n",
              "      <td>140<\/td>\n",
              "      <td>293<\/td>\n",
              "      <td>2<\/td>\n",
              "      <td>2<\/td>\n",
              "      <td>170<\/td>\n",
              "      <td>0<\/td>\n",
              "      <td>1.2<\/td>\n",
              "      <td>2<\/td>\n",
              "      <td>2<\/td>\n",
              "      <td>7<\/td>\n",
              "      <td>1<\/td>\n",
              "    <\/tr>\n",
              "    <tr>\n",
              "      <th>9<\/th>\n",
              "      <td>63<\/td>\n",
              "      <td>1<\/td>\n",
              "      <td>4<\/td>\n",
              "      <td>150<\/td>\n",
              "      <td>407<\/td>\n",
              "      <td>2<\/td>\n",
              "      <td>2<\/td>\n",
              "      <td>154<\/td>\n",
              "      <td>0<\/td>\n",
              "      <td>4.0<\/td>\n",
              "      <td>2<\/td>\n",
              "      <td>3<\/td>\n",
              "      <td>7<\/td>\n",
              "      <td>1<\/td>\n",
              "    <\/tr>\n",
              "  <\/tbody>\n",
              "<\/table>\n",
              "<\/div>"
            ]
          },
          "metadata":{
            
          },
          "output_type":"display_data"
        }
      ],
      "metadata":{
        
      }
    },
    {
      "cell_type":"code",
      "source":[
        "#0,1 -> 1,2, 0: NaN\n",
        "dfbak.sex.replace({0:1, 1:2}, inplace = True)\n",
        "# replace the original from 1:true, 0:false, To 1:true, 2: false, 0: nan\n",
        "dfbak.fbs.replace({'0':'2'}, inplace = True)\n",
        "#012 -> 123, 0: nan\n",
        "dfbak.restecg.replace({0:1, 1:2, 2:3}, inplace = True)\n",
        "dfbak.exng.replace({'0':'1', '1':'2'}, inplace = True)\n",
        "dfbak.thall.replace({'1':'3', '2':'6', '3':'7'}, inplace = True)\n",
        "dfbak.thall.replace({'5':'6'}, inplace = True)\n",
        "dfbak.output.replace([2, 3, 4], 1, inplace=True)\n",
        "df = df.append(dfbak, ignore_index=True)\n",
        "dfbak.head(10)"
      ],
      "execution_count":59,
      "outputs":[
        {
          "data":{
            "text\/html":[
              "<div>\n",
              "<style scoped>\n",
              "    .dataframe tbody tr th:only-of-type {\n",
              "        vertical-align: middle;\n",
              "    }\n",
              "\n",
              "    .dataframe tbody tr th {\n",
              "        vertical-align: top;\n",
              "    }\n",
              "\n",
              "    .dataframe thead th {\n",
              "        text-align: right;\n",
              "    }\n",
              "<\/style>\n",
              "<table border=\"1\" class=\"dataframe\">\n",
              "  <thead>\n",
              "    <tr style=\"text-align: right;\">\n",
              "      <th><\/th>\n",
              "      <th>age<\/th>\n",
              "      <th>sex<\/th>\n",
              "      <th>cp<\/th>\n",
              "      <th>trtbps<\/th>\n",
              "      <th>chol<\/th>\n",
              "      <th>fbs<\/th>\n",
              "      <th>restecg<\/th>\n",
              "      <th>thalachh<\/th>\n",
              "      <th>exng<\/th>\n",
              "      <th>oldpeak<\/th>\n",
              "      <th>slp<\/th>\n",
              "      <th>caa<\/th>\n",
              "      <th>thall<\/th>\n",
              "      <th>output<\/th>\n",
              "    <\/tr>\n",
              "  <\/thead>\n",
              "  <tbody>\n",
              "    <tr>\n",
              "      <th>0<\/th>\n",
              "      <td>44<\/td>\n",
              "      <td>2<\/td>\n",
              "      <td>4<\/td>\n",
              "      <td>130<\/td>\n",
              "      <td>209<\/td>\n",
              "      <td>2<\/td>\n",
              "      <td>2<\/td>\n",
              "      <td>127<\/td>\n",
              "      <td>1<\/td>\n",
              "      <td>0<\/td>\n",
              "      <td>?<\/td>\n",
              "      <td>?<\/td>\n",
              "      <td>?<\/td>\n",
              "      <td>0<\/td>\n",
              "    <\/tr>\n",
              "    <tr>\n",
              "      <th>1<\/th>\n",
              "      <td>60<\/td>\n",
              "      <td>2<\/td>\n",
              "      <td>4<\/td>\n",
              "      <td>132<\/td>\n",
              "      <td>218<\/td>\n",
              "      <td>2<\/td>\n",
              "      <td>2<\/td>\n",
              "      <td>140<\/td>\n",
              "      <td>2<\/td>\n",
              "      <td>1.5<\/td>\n",
              "      <td>3<\/td>\n",
              "      <td>?<\/td>\n",
              "      <td>?<\/td>\n",
              "      <td>1<\/td>\n",
              "    <\/tr>\n",
              "    <tr>\n",
              "      <th>2<\/th>\n",
              "      <td>55<\/td>\n",
              "      <td>2<\/td>\n",
              "      <td>4<\/td>\n",
              "      <td>142<\/td>\n",
              "      <td>228<\/td>\n",
              "      <td>2<\/td>\n",
              "      <td>2<\/td>\n",
              "      <td>149<\/td>\n",
              "      <td>2<\/td>\n",
              "      <td>2.5<\/td>\n",
              "      <td>1<\/td>\n",
              "      <td>?<\/td>\n",
              "      <td>?<\/td>\n",
              "      <td>1<\/td>\n",
              "    <\/tr>\n",
              "    <tr>\n",
              "      <th>3<\/th>\n",
              "      <td>66<\/td>\n",
              "      <td>2<\/td>\n",
              "      <td>3<\/td>\n",
              "      <td>110<\/td>\n",
              "      <td>213<\/td>\n",
              "      <td>1<\/td>\n",
              "      <td>3<\/td>\n",
              "      <td>99<\/td>\n",
              "      <td>2<\/td>\n",
              "      <td>1.3<\/td>\n",
              "      <td>2<\/td>\n",
              "      <td>?<\/td>\n",
              "      <td>?<\/td>\n",
              "      <td>0<\/td>\n",
              "    <\/tr>\n",
              "    <tr>\n",
              "      <th>4<\/th>\n",
              "      <td>66<\/td>\n",
              "      <td>2<\/td>\n",
              "      <td>3<\/td>\n",
              "      <td>120<\/td>\n",
              "      <td>0<\/td>\n",
              "      <td>2<\/td>\n",
              "      <td>2<\/td>\n",
              "      <td>120<\/td>\n",
              "      <td>1<\/td>\n",
              "      <td>-0.5<\/td>\n",
              "      <td>1<\/td>\n",
              "      <td>?<\/td>\n",
              "      <td>6<\/td>\n",
              "      <td>0<\/td>\n",
              "    <\/tr>\n",
              "    <tr>\n",
              "      <th>5<\/th>\n",
              "      <td>65<\/td>\n",
              "      <td>2<\/td>\n",
              "      <td>4<\/td>\n",
              "      <td>150<\/td>\n",
              "      <td>236<\/td>\n",
              "      <td>1<\/td>\n",
              "      <td>2<\/td>\n",
              "      <td>105<\/td>\n",
              "      <td>2<\/td>\n",
              "      <td>0<\/td>\n",
              "      <td>?<\/td>\n",
              "      <td>?<\/td>\n",
              "      <td>?<\/td>\n",
              "      <td>1<\/td>\n",
              "    <\/tr>\n",
              "    <tr>\n",
              "      <th>6<\/th>\n",
              "      <td>60<\/td>\n",
              "      <td>2<\/td>\n",
              "      <td>3<\/td>\n",
              "      <td>180<\/td>\n",
              "      <td>0<\/td>\n",
              "      <td>2<\/td>\n",
              "      <td>2<\/td>\n",
              "      <td>140<\/td>\n",
              "      <td>2<\/td>\n",
              "      <td>1.5<\/td>\n",
              "      <td>2<\/td>\n",
              "      <td>?<\/td>\n",
              "      <td>?<\/td>\n",
              "      <td>0<\/td>\n",
              "    <\/tr>\n",
              "    <tr>\n",
              "      <th>7<\/th>\n",
              "      <td>60<\/td>\n",
              "      <td>2<\/td>\n",
              "      <td>3<\/td>\n",
              "      <td>120<\/td>\n",
              "      <td>0<\/td>\n",
              "      <td>?<\/td>\n",
              "      <td>1<\/td>\n",
              "      <td>141<\/td>\n",
              "      <td>2<\/td>\n",
              "      <td>2<\/td>\n",
              "      <td>1<\/td>\n",
              "      <td>?<\/td>\n",
              "      <td>?<\/td>\n",
              "      <td>1<\/td>\n",
              "    <\/tr>\n",
              "    <tr>\n",
              "      <th>8<\/th>\n",
              "      <td>60<\/td>\n",
              "      <td>2<\/td>\n",
              "      <td>2<\/td>\n",
              "      <td>160<\/td>\n",
              "      <td>267<\/td>\n",
              "      <td>1<\/td>\n",
              "      <td>2<\/td>\n",
              "      <td>157<\/td>\n",
              "      <td>1<\/td>\n",
              "      <td>0.5<\/td>\n",
              "      <td>2<\/td>\n",
              "      <td>?<\/td>\n",
              "      <td>?<\/td>\n",
              "      <td>1<\/td>\n",
              "    <\/tr>\n",
              "    <tr>\n",
              "      <th>9<\/th>\n",
              "      <td>56<\/td>\n",
              "      <td>2<\/td>\n",
              "      <td>2<\/td>\n",
              "      <td>126<\/td>\n",
              "      <td>166<\/td>\n",
              "      <td>2<\/td>\n",
              "      <td>2<\/td>\n",
              "      <td>140<\/td>\n",
              "      <td>1<\/td>\n",
              "      <td>0<\/td>\n",
              "      <td>?<\/td>\n",
              "      <td>?<\/td>\n",
              "      <td>?<\/td>\n",
              "      <td>0<\/td>\n",
              "    <\/tr>\n",
              "  <\/tbody>\n",
              "<\/table>\n",
              "<\/div>"
            ]
          },
          "metadata":{
            
          },
          "output_type":"display_data"
        }
      ],
      "metadata":{
        
      }
    },
    {
      "cell_type":"markdown",
      "source":[
        "## clean NaN value in the whole dataset"
      ],
      "attachments":{
        
      },
      "metadata":{
        
      }
    },
    {
      "cell_type":"code",
      "source":[
        "df.replace({'?':'0'}, inplace = True)\n",
        "df.drop_duplicates()\n",
        "df=df.astype('float')\n",
        "df.to_csv(\"FP_new_dataset.csv\")"
      ],
      "execution_count":61,
      "outputs":[
        
      ],
      "metadata":{
        
      }
    },
    {
      "cell_type":"code",
      "source":[
        "df"
      ],
      "execution_count":62,
      "outputs":[
        {
          "data":{
            "text\/html":[
              "<div>\n",
              "<style scoped>\n",
              "    .dataframe tbody tr th:only-of-type {\n",
              "        vertical-align: middle;\n",
              "    }\n",
              "\n",
              "    .dataframe tbody tr th {\n",
              "        vertical-align: top;\n",
              "    }\n",
              "\n",
              "    .dataframe thead th {\n",
              "        text-align: right;\n",
              "    }\n",
              "<\/style>\n",
              "<table border=\"1\" class=\"dataframe\">\n",
              "  <thead>\n",
              "    <tr style=\"text-align: right;\">\n",
              "      <th><\/th>\n",
              "      <th>age<\/th>\n",
              "      <th>sex<\/th>\n",
              "      <th>cp<\/th>\n",
              "      <th>trtbps<\/th>\n",
              "      <th>chol<\/th>\n",
              "      <th>fbs<\/th>\n",
              "      <th>restecg<\/th>\n",
              "      <th>thalachh<\/th>\n",
              "      <th>exng<\/th>\n",
              "      <th>oldpeak<\/th>\n",
              "      <th>slp<\/th>\n",
              "      <th>caa<\/th>\n",
              "      <th>thall<\/th>\n",
              "      <th>output<\/th>\n",
              "    <\/tr>\n",
              "  <\/thead>\n",
              "  <tbody>\n",
              "    <tr>\n",
              "      <th>0<\/th>\n",
              "      <td>63.0<\/td>\n",
              "      <td>2.0<\/td>\n",
              "      <td>4.0<\/td>\n",
              "      <td>145.0<\/td>\n",
              "      <td>233.0<\/td>\n",
              "      <td>1.0<\/td>\n",
              "      <td>1.0<\/td>\n",
              "      <td>150.0<\/td>\n",
              "      <td>1.0<\/td>\n",
              "      <td>2.3<\/td>\n",
              "      <td>0.0<\/td>\n",
              "      <td>0.0<\/td>\n",
              "      <td>3.0<\/td>\n",
              "      <td>1.0<\/td>\n",
              "    <\/tr>\n",
              "    <tr>\n",
              "      <th>1<\/th>\n",
              "      <td>37.0<\/td>\n",
              "      <td>2.0<\/td>\n",
              "      <td>3.0<\/td>\n",
              "      <td>130.0<\/td>\n",
              "      <td>250.0<\/td>\n",
              "      <td>2.0<\/td>\n",
              "      <td>2.0<\/td>\n",
              "      <td>187.0<\/td>\n",
              "      <td>1.0<\/td>\n",
              "      <td>3.5<\/td>\n",
              "      <td>0.0<\/td>\n",
              "      <td>0.0<\/td>\n",
              "      <td>6.0<\/td>\n",
              "      <td>1.0<\/td>\n",
              "    <\/tr>\n",
              "    <tr>\n",
              "      <th>2<\/th>\n",
              "      <td>41.0<\/td>\n",
              "      <td>1.0<\/td>\n",
              "      <td>2.0<\/td>\n",
              "      <td>130.0<\/td>\n",
              "      <td>204.0<\/td>\n",
              "      <td>2.0<\/td>\n",
              "      <td>1.0<\/td>\n",
              "      <td>172.0<\/td>\n",
              "      <td>1.0<\/td>\n",
              "      <td>1.4<\/td>\n",
              "      <td>2.0<\/td>\n",
              "      <td>0.0<\/td>\n",
              "      <td>6.0<\/td>\n",
              "      <td>1.0<\/td>\n",
              "    <\/tr>\n",
              "    <tr>\n",
              "      <th>3<\/th>\n",
              "      <td>56.0<\/td>\n",
              "      <td>2.0<\/td>\n",
              "      <td>2.0<\/td>\n",
              "      <td>120.0<\/td>\n",
              "      <td>236.0<\/td>\n",
              "      <td>2.0<\/td>\n",
              "      <td>2.0<\/td>\n",
              "      <td>178.0<\/td>\n",
              "      <td>1.0<\/td>\n",
              "      <td>0.8<\/td>\n",
              "      <td>2.0<\/td>\n",
              "      <td>0.0<\/td>\n",
              "      <td>6.0<\/td>\n",
              "      <td>1.0<\/td>\n",
              "    <\/tr>\n",
              "    <tr>\n",
              "      <th>4<\/th>\n",
              "      <td>57.0<\/td>\n",
              "      <td>1.0<\/td>\n",
              "      <td>1.0<\/td>\n",
              "      <td>120.0<\/td>\n",
              "      <td>354.0<\/td>\n",
              "      <td>2.0<\/td>\n",
              "      <td>2.0<\/td>\n",
              "      <td>163.0<\/td>\n",
              "      <td>2.0<\/td>\n",
              "      <td>0.6<\/td>\n",
              "      <td>2.0<\/td>\n",
              "      <td>0.0<\/td>\n",
              "      <td>6.0<\/td>\n",
              "      <td>1.0<\/td>\n",
              "    <\/tr>\n",
              "    <tr>\n",
              "      <th>...<\/th>\n",
              "      <td>...<\/td>\n",
              "      <td>...<\/td>\n",
              "      <td>...<\/td>\n",
              "      <td>...<\/td>\n",
              "      <td>...<\/td>\n",
              "      <td>...<\/td>\n",
              "      <td>...<\/td>\n",
              "      <td>...<\/td>\n",
              "      <td>...<\/td>\n",
              "      <td>...<\/td>\n",
              "      <td>...<\/td>\n",
              "      <td>...<\/td>\n",
              "      <td>...<\/td>\n",
              "      <td>...<\/td>\n",
              "    <\/tr>\n",
              "    <tr>\n",
              "      <th>1061<\/th>\n",
              "      <td>54.0<\/td>\n",
              "      <td>1.0<\/td>\n",
              "      <td>4.0<\/td>\n",
              "      <td>127.0<\/td>\n",
              "      <td>333.0<\/td>\n",
              "      <td>1.0<\/td>\n",
              "      <td>2.0<\/td>\n",
              "      <td>154.0<\/td>\n",
              "      <td>1.0<\/td>\n",
              "      <td>0.0<\/td>\n",
              "      <td>0.0<\/td>\n",
              "      <td>0.0<\/td>\n",
              "      <td>0.0<\/td>\n",
              "      <td>1.0<\/td>\n",
              "    <\/tr>\n",
              "    <tr>\n",
              "      <th>1062<\/th>\n",
              "      <td>62.0<\/td>\n",
              "      <td>2.0<\/td>\n",
              "      <td>1.0<\/td>\n",
              "      <td>0.0<\/td>\n",
              "      <td>139.0<\/td>\n",
              "      <td>2.0<\/td>\n",
              "      <td>2.0<\/td>\n",
              "      <td>0.0<\/td>\n",
              "      <td>0.0<\/td>\n",
              "      <td>0.0<\/td>\n",
              "      <td>0.0<\/td>\n",
              "      <td>0.0<\/td>\n",
              "      <td>0.0<\/td>\n",
              "      <td>0.0<\/td>\n",
              "    <\/tr>\n",
              "    <tr>\n",
              "      <th>1063<\/th>\n",
              "      <td>55.0<\/td>\n",
              "      <td>2.0<\/td>\n",
              "      <td>4.0<\/td>\n",
              "      <td>122.0<\/td>\n",
              "      <td>223.0<\/td>\n",
              "      <td>1.0<\/td>\n",
              "      <td>2.0<\/td>\n",
              "      <td>100.0<\/td>\n",
              "      <td>1.0<\/td>\n",
              "      <td>0.0<\/td>\n",
              "      <td>0.0<\/td>\n",
              "      <td>0.0<\/td>\n",
              "      <td>6.0<\/td>\n",
              "      <td>1.0<\/td>\n",
              "    <\/tr>\n",
              "    <tr>\n",
              "      <th>1064<\/th>\n",
              "      <td>58.0<\/td>\n",
              "      <td>2.0<\/td>\n",
              "      <td>4.0<\/td>\n",
              "      <td>0.0<\/td>\n",
              "      <td>385.0<\/td>\n",
              "      <td>1.0<\/td>\n",
              "      <td>3.0<\/td>\n",
              "      <td>0.0<\/td>\n",
              "      <td>0.0<\/td>\n",
              "      <td>0.0<\/td>\n",
              "      <td>0.0<\/td>\n",
              "      <td>0.0<\/td>\n",
              "      <td>0.0<\/td>\n",
              "      <td>0.0<\/td>\n",
              "    <\/tr>\n",
              "    <tr>\n",
              "      <th>1065<\/th>\n",
              "      <td>62.0<\/td>\n",
              "      <td>2.0<\/td>\n",
              "      <td>2.0<\/td>\n",
              "      <td>120.0<\/td>\n",
              "      <td>254.0<\/td>\n",
              "      <td>2.0<\/td>\n",
              "      <td>3.0<\/td>\n",
              "      <td>93.0<\/td>\n",
              "      <td>2.0<\/td>\n",
              "      <td>0.0<\/td>\n",
              "      <td>0.0<\/td>\n",
              "      <td>0.0<\/td>\n",
              "      <td>0.0<\/td>\n",
              "      <td>1.0<\/td>\n",
              "    <\/tr>\n",
              "  <\/tbody>\n",
              "<\/table>\n",
              "<p>1066 rows × 14 columns<\/p>\n",
              "<\/div>"
            ]
          },
          "metadata":{
            
          },
          "output_type":"display_data"
        }
      ],
      "metadata":{
        
      }
    },
    {
      "cell_type":"code",
      "source":[
        "from sklearn.preprocessing import MinMaxScaler\n",
        "from sklearn.feature_selection import RFE\n",
        "from sklearn.model_selection import train_test_split\n",
        "from sklearn.tree import DecisionTreeRegressor"
      ],
      "execution_count":63,
      "outputs":[
        
      ],
      "metadata":{
        
      }
    },
    {
      "cell_type":"markdown",
      "source":[
        "select all the feature columns from the whole dataset as a subset: feature\n",
        "\n",
        "select all the target values from the whole dataset as a subset: target"
      ],
      "attachments":{
        
      },
      "metadata":{
        
      }
    },
    {
      "cell_type":"code",
      "source":[
        "\n",
        "def features_and_target(df):\n",
        "    #answer goes here\n",
        "    feature = df.drop('output', axis = 1)\n",
        "    target = df['output']\n",
        "    return feature, target"
      ],
      "execution_count":64,
      "outputs":[
        
      ],
      "metadata":{
        
      }
    },
    {
      "cell_type":"code",
      "source":[
        "# change the data type of features and target to float and integer\n",
        "features, target = features_and_target(df)\n",
        "features = features.astype('float')\n",
        "target = target.astype('int')"
      ],
      "execution_count":65,
      "outputs":[
        
      ],
      "metadata":{
        
      }
    },
    {
      "cell_type":"markdown",
      "source":[
        "**data wrangling to get features and target values**"
      ],
      "attachments":{
        
      },
      "metadata":{
        
      }
    },
    {
      "cell_type":"code",
      "source":[
        "target"
      ],
      "execution_count":66,
      "outputs":[
        {
          "data":{
            "text\/plain":[
              "0       1\n",
              "1       1\n",
              "2       1\n",
              "3       1\n",
              "4       1\n",
              "       ..\n",
              "1061    1\n",
              "1062    0\n",
              "1063    1\n",
              "1064    0\n",
              "1065    1\n",
              "Name: output, Length: 1066, dtype: int64"
            ]
          },
          "metadata":{
            
          },
          "output_type":"display_data"
        }
      ],
      "metadata":{
        
      }
    },
    {
      "cell_type":"code",
      "source":[
        "features"
      ],
      "execution_count":67,
      "outputs":[
        {
          "data":{
            "text\/html":[
              "<div>\n",
              "<style scoped>\n",
              "    .dataframe tbody tr th:only-of-type {\n",
              "        vertical-align: middle;\n",
              "    }\n",
              "\n",
              "    .dataframe tbody tr th {\n",
              "        vertical-align: top;\n",
              "    }\n",
              "\n",
              "    .dataframe thead th {\n",
              "        text-align: right;\n",
              "    }\n",
              "<\/style>\n",
              "<table border=\"1\" class=\"dataframe\">\n",
              "  <thead>\n",
              "    <tr style=\"text-align: right;\">\n",
              "      <th><\/th>\n",
              "      <th>age<\/th>\n",
              "      <th>sex<\/th>\n",
              "      <th>cp<\/th>\n",
              "      <th>trtbps<\/th>\n",
              "      <th>chol<\/th>\n",
              "      <th>fbs<\/th>\n",
              "      <th>restecg<\/th>\n",
              "      <th>thalachh<\/th>\n",
              "      <th>exng<\/th>\n",
              "      <th>oldpeak<\/th>\n",
              "      <th>slp<\/th>\n",
              "      <th>caa<\/th>\n",
              "      <th>thall<\/th>\n",
              "    <\/tr>\n",
              "  <\/thead>\n",
              "  <tbody>\n",
              "    <tr>\n",
              "      <th>0<\/th>\n",
              "      <td>63.0<\/td>\n",
              "      <td>2.0<\/td>\n",
              "      <td>4.0<\/td>\n",
              "      <td>145.0<\/td>\n",
              "      <td>233.0<\/td>\n",
              "      <td>1.0<\/td>\n",
              "      <td>1.0<\/td>\n",
              "      <td>150.0<\/td>\n",
              "      <td>1.0<\/td>\n",
              "      <td>2.3<\/td>\n",
              "      <td>0.0<\/td>\n",
              "      <td>0.0<\/td>\n",
              "      <td>3.0<\/td>\n",
              "    <\/tr>\n",
              "    <tr>\n",
              "      <th>1<\/th>\n",
              "      <td>37.0<\/td>\n",
              "      <td>2.0<\/td>\n",
              "      <td>3.0<\/td>\n",
              "      <td>130.0<\/td>\n",
              "      <td>250.0<\/td>\n",
              "      <td>2.0<\/td>\n",
              "      <td>2.0<\/td>\n",
              "      <td>187.0<\/td>\n",
              "      <td>1.0<\/td>\n",
              "      <td>3.5<\/td>\n",
              "      <td>0.0<\/td>\n",
              "      <td>0.0<\/td>\n",
              "      <td>6.0<\/td>\n",
              "    <\/tr>\n",
              "    <tr>\n",
              "      <th>2<\/th>\n",
              "      <td>41.0<\/td>\n",
              "      <td>1.0<\/td>\n",
              "      <td>2.0<\/td>\n",
              "      <td>130.0<\/td>\n",
              "      <td>204.0<\/td>\n",
              "      <td>2.0<\/td>\n",
              "      <td>1.0<\/td>\n",
              "      <td>172.0<\/td>\n",
              "      <td>1.0<\/td>\n",
              "      <td>1.4<\/td>\n",
              "      <td>2.0<\/td>\n",
              "      <td>0.0<\/td>\n",
              "      <td>6.0<\/td>\n",
              "    <\/tr>\n",
              "    <tr>\n",
              "      <th>3<\/th>\n",
              "      <td>56.0<\/td>\n",
              "      <td>2.0<\/td>\n",
              "      <td>2.0<\/td>\n",
              "      <td>120.0<\/td>\n",
              "      <td>236.0<\/td>\n",
              "      <td>2.0<\/td>\n",
              "      <td>2.0<\/td>\n",
              "      <td>178.0<\/td>\n",
              "      <td>1.0<\/td>\n",
              "      <td>0.8<\/td>\n",
              "      <td>2.0<\/td>\n",
              "      <td>0.0<\/td>\n",
              "      <td>6.0<\/td>\n",
              "    <\/tr>\n",
              "    <tr>\n",
              "      <th>4<\/th>\n",
              "      <td>57.0<\/td>\n",
              "      <td>1.0<\/td>\n",
              "      <td>1.0<\/td>\n",
              "      <td>120.0<\/td>\n",
              "      <td>354.0<\/td>\n",
              "      <td>2.0<\/td>\n",
              "      <td>2.0<\/td>\n",
              "      <td>163.0<\/td>\n",
              "      <td>2.0<\/td>\n",
              "      <td>0.6<\/td>\n",
              "      <td>2.0<\/td>\n",
              "      <td>0.0<\/td>\n",
              "      <td>6.0<\/td>\n",
              "    <\/tr>\n",
              "    <tr>\n",
              "      <th>...<\/th>\n",
              "      <td>...<\/td>\n",
              "      <td>...<\/td>\n",
              "      <td>...<\/td>\n",
              "      <td>...<\/td>\n",
              "      <td>...<\/td>\n",
              "      <td>...<\/td>\n",
              "      <td>...<\/td>\n",
              "      <td>...<\/td>\n",
              "      <td>...<\/td>\n",
              "      <td>...<\/td>\n",
              "      <td>...<\/td>\n",
              "      <td>...<\/td>\n",
              "      <td>...<\/td>\n",
              "    <\/tr>\n",
              "    <tr>\n",
              "      <th>1061<\/th>\n",
              "      <td>54.0<\/td>\n",
              "      <td>1.0<\/td>\n",
              "      <td>4.0<\/td>\n",
              "      <td>127.0<\/td>\n",
              "      <td>333.0<\/td>\n",
              "      <td>1.0<\/td>\n",
              "      <td>2.0<\/td>\n",
              "      <td>154.0<\/td>\n",
              "      <td>1.0<\/td>\n",
              "      <td>0.0<\/td>\n",
              "      <td>0.0<\/td>\n",
              "      <td>0.0<\/td>\n",
              "      <td>0.0<\/td>\n",
              "    <\/tr>\n",
              "    <tr>\n",
              "      <th>1062<\/th>\n",
              "      <td>62.0<\/td>\n",
              "      <td>2.0<\/td>\n",
              "      <td>1.0<\/td>\n",
              "      <td>0.0<\/td>\n",
              "      <td>139.0<\/td>\n",
              "      <td>2.0<\/td>\n",
              "      <td>2.0<\/td>\n",
              "      <td>0.0<\/td>\n",
              "      <td>0.0<\/td>\n",
              "      <td>0.0<\/td>\n",
              "      <td>0.0<\/td>\n",
              "      <td>0.0<\/td>\n",
              "      <td>0.0<\/td>\n",
              "    <\/tr>\n",
              "    <tr>\n",
              "      <th>1063<\/th>\n",
              "      <td>55.0<\/td>\n",
              "      <td>2.0<\/td>\n",
              "      <td>4.0<\/td>\n",
              "      <td>122.0<\/td>\n",
              "      <td>223.0<\/td>\n",
              "      <td>1.0<\/td>\n",
              "      <td>2.0<\/td>\n",
              "      <td>100.0<\/td>\n",
              "      <td>1.0<\/td>\n",
              "      <td>0.0<\/td>\n",
              "      <td>0.0<\/td>\n",
              "      <td>0.0<\/td>\n",
              "      <td>6.0<\/td>\n",
              "    <\/tr>\n",
              "    <tr>\n",
              "      <th>1064<\/th>\n",
              "      <td>58.0<\/td>\n",
              "      <td>2.0<\/td>\n",
              "      <td>4.0<\/td>\n",
              "      <td>0.0<\/td>\n",
              "      <td>385.0<\/td>\n",
              "      <td>1.0<\/td>\n",
              "      <td>3.0<\/td>\n",
              "      <td>0.0<\/td>\n",
              "      <td>0.0<\/td>\n",
              "      <td>0.0<\/td>\n",
              "      <td>0.0<\/td>\n",
              "      <td>0.0<\/td>\n",
              "      <td>0.0<\/td>\n",
              "    <\/tr>\n",
              "    <tr>\n",
              "      <th>1065<\/th>\n",
              "      <td>62.0<\/td>\n",
              "      <td>2.0<\/td>\n",
              "      <td>2.0<\/td>\n",
              "      <td>120.0<\/td>\n",
              "      <td>254.0<\/td>\n",
              "      <td>2.0<\/td>\n",
              "      <td>3.0<\/td>\n",
              "      <td>93.0<\/td>\n",
              "      <td>2.0<\/td>\n",
              "      <td>0.0<\/td>\n",
              "      <td>0.0<\/td>\n",
              "      <td>0.0<\/td>\n",
              "      <td>0.0<\/td>\n",
              "    <\/tr>\n",
              "  <\/tbody>\n",
              "<\/table>\n",
              "<p>1066 rows × 13 columns<\/p>\n",
              "<\/div>"
            ]
          },
          "metadata":{
            
          },
          "output_type":"display_data"
        }
      ],
      "metadata":{
        
      }
    },
    {
      "cell_type":"markdown",
      "source":[
        "## Training and Testing Set Selection"
      ],
      "attachments":{
        
      },
      "metadata":{
        
      }
    },
    {
      "cell_type":"code",
      "source":[
        "X_train, X_test, y_train, y_test = train_test_split(features, target, random_state = 3000)"
      ],
      "execution_count":68,
      "outputs":[
        
      ],
      "metadata":{
        
      }
    },
    {
      "cell_type":"markdown",
      "source":[
        "## Preprocessing \n",
        "Scaling\/transforming feature variables to normalize them\n",
        "\n",
        "Preprocess using MinMaxScaler"
      ],
      "attachments":{
        
      },
      "metadata":{
        
      }
    },
    {
      "cell_type":"code",
      "source":[
        "from sklearn.preprocessing import MinMaxScaler\n",
        "\n",
        "def preprocessed_regression():\n",
        "    scaler = MinMaxScaler()\n",
        "    scaler.fit(X_train) \n",
        "\n",
        "    #scale testing and training sets\n",
        "    X_train_scaled = scaler.transform(X_train) \n",
        "    X_test_scaled = scaler.transform(X_test) \n",
        "\n",
        "    return X_train_scaled, X_test_scaled"
      ],
      "execution_count":69,
      "outputs":[
        
      ],
      "metadata":{
        
      }
    },
    {
      "cell_type":"code",
      "source":[
        "X_train_scaled, X_test_scaled = preprocessed_regression()"
      ],
      "execution_count":70,
      "outputs":[
        
      ],
      "metadata":{
        
      }
    },
    {
      "cell_type":"markdown",
      "source":[
        "## Feature selection \n",
        "To predict the outcome variable, we first need to select the most important variablesusing various feature selection algorithm. \n",
        "\n",
        "1. RFE with Decision Tree Regressor, has number of features as input to run the function"
      ],
      "attachments":{
        
      },
      "metadata":{
        
      }
    },
    {
      "cell_type":"code",
      "source":[
        "from sklearn.feature_selection import RFE\n",
        "from sklearn.tree import DecisionTreeRegressor\n",
        "\n",
        "def RFE_feature_selection(n_features):\n",
        "    X_train_scaled, X_test_scaled = preprocessed_regression()\n",
        "\n",
        "    select = RFE(DecisionTreeRegressor(random_state=3000),n_features_to_select=n_features)\n",
        "    # fit the model with scaled data\n",
        "    select.fit(X_train_scaled, y_train)\n",
        "\n",
        "    #transform previous scaled sets to only select n_features most important features in each\n",
        "    X_train_selected = select.transform(X_train_scaled)\n",
        "    X_test_selected = select.transform(X_test_scaled)\n",
        "\n",
        "    indices=[]\n",
        "    for i in range(len(select.get_support())):\n",
        "        if select.get_support()[i] == True:\n",
        "            indices.append(i)\n",
        "    print('Selected features after RFE:')\n",
        "    selected_featuresRFE=[]\n",
        "    for indice in indices:\n",
        "        print('\\t',features.columns[indice])\n",
        "        selected_featuresRFE.append(features.columns[indice])\n",
        "\n",
        "    print(select.estimator_.feature_importances_)\n",
        "    \n",
        "    return X_train_selected, X_test_selected, selected_featuresRFE"
      ],
      "execution_count":71,
      "outputs":[
        
      ],
      "metadata":{
        
      }
    },
    {
      "cell_type":"code",
      "source":[
        "# X_train_selectedRFE: Subset of training set. Has only selected features\n",
        "# X_test_selectedRFE: Subset of testing set. Has only selected features\n",
        "X_train_selectedRFE, X_test_selectedRFE, selected_featuresRFE = RFE_feature_selection(7)"
      ],
      "execution_count":72,
      "outputs":[
        {
          "name":"stdout",
          "text":[
            "Selected features after RFE:\n",
            "\t age\n",
            "\t cp\n",
            "\t chol\n",
            "\t thalachh\n",
            "\t oldpeak\n",
            "\t slp\n",
            "\t thall\n",
            "[0.14497173 0.09956327 0.18350636 0.1619309  0.09134058 0.19101884\n",
            " 0.12766831]\n"
          ],
          "output_type":"stream"
        }
      ],
      "metadata":{
        
      }
    },
    {
      "cell_type":"markdown",
      "source":[
        "2. Select from model with Decision Tree Regressor"
      ],
      "attachments":{
        
      },
      "metadata":{
        
      }
    },
    {
      "cell_type":"code",
      "source":[
        "from sklearn.feature_selection import SelectFromModel\n",
        "from sklearn.tree import DecisionTreeRegressor\n",
        "\n",
        "def model_based_feature_selection():\n",
        "    X_train_scaled, X_test_scaled = preprocessed_regression()\n",
        "    select = SelectFromModel(DecisionTreeRegressor(random_state = 3000), threshold = \"median\")\n",
        "    # fit the model with scaled data\n",
        "    select.fit(X_train_scaled, y_train)\n",
        "\n",
        "    #transform training and testing sets so only the selected features are retained\n",
        "    X_train_selected = select.transform(X_train_scaled)\n",
        "    X_test_selected = select.transform(X_test_scaled)\n",
        "\n",
        "    indices=[]\n",
        "    for i in range(len(select.get_support())):\n",
        "        if select.get_support()[i] == True:\n",
        "            indices.append(i)\n",
        "    print('Selected features after RFE:')\n",
        "\n",
        "    selected_featuresMB=[]\n",
        "    for indice in indices:\n",
        "        print('\\t',features.columns[indice])\n",
        "        selected_featuresMB.append(features.columns[indice])\n",
        "\n",
        "    print(select.estimator_.feature_importances_)\n",
        "    \n",
        "    return X_train_selected, X_test_selected, selected_featuresMB, select.estimator_.feature_importances_\n",
        "\n",
        "    "
      ],
      "execution_count":73,
      "outputs":[
        
      ],
      "metadata":{
        
      }
    },
    {
      "cell_type":"code",
      "source":[
        "# X_train_selectedMB: Subset of training set. Has only selected features\n",
        "# X_test_selectedMB: Subset of testing set. Has only selected features\n",
        "# selected_features: List of features that were selected\n",
        "X_train_selectedMB, X_test_selectedMB, selected_featuresMB, nums = model_based_feature_selection()"
      ],
      "execution_count":74,
      "outputs":[
        {
          "name":"stdout",
          "text":[
            "Selected features after RFE:\n",
            "\t age\n",
            "\t cp\n",
            "\t chol\n",
            "\t thalachh\n",
            "\t slp\n",
            "\t caa\n",
            "\t thall\n",
            "[0.1140737  0.03622383 0.09831167 0.05672415 0.07515994 0.01043846\n",
            " 0.05269366 0.10460187 0.03724821 0.05865143 0.18976917 0.09316182\n",
            " 0.07294208]\n"
          ],
          "output_type":"stream"
        }
      ],
      "metadata":{
        
      }
    },
    {
      "cell_type":"markdown",
      "source":[
        "1. Select features using univariate feature selection"
      ],
      "attachments":{
        
      },
      "metadata":{
        
      }
    },
    {
      "cell_type":"code",
      "source":[
        "from sklearn.feature_selection import SelectKBest # selects a certain number of features from the set\n",
        "from sklearn.feature_selection import f_classif\n",
        "\n",
        "\n",
        "def univariate_feature_selection(num_k):\n",
        "    X_train_scaled, X_test_scaled = preprocessed_regression()\n",
        "\n",
        "    select = SelectKBest(score_func=f_classif, k = num_k)\n",
        "    # fit the model with scaled data\n",
        "    select.fit(X_train_scaled, y_train)\n",
        "    #transform previous scaled sets to only select num_k best features in each\n",
        "    x_train_selected = select.transform(X_train_scaled)\n",
        "    x_test_selected = select.transform(X_test_scaled)\n",
        "\n",
        "    indices=[]\n",
        "    for i in range(len(select.get_support())):\n",
        "        if not select.get_support()[i] != True:\n",
        "            indices.append(i)\n",
        "    print('Selected features after RFE:')\n",
        "    selected_featuresUNI = []\n",
        "    for indice in indices:\n",
        "        print('\\t',features.columns[indice])\n",
        "        selected_featuresUNI.append(features.columns[indice])\n",
        "\n",
        "\n",
        "\n",
        "    return x_train_selected, x_test_selected, selected_featuresUNI\n",
        "\n",
        "\n"
      ],
      "execution_count":76,
      "outputs":[
        
      ],
      "metadata":{
        
      }
    },
    {
      "cell_type":"code",
      "source":[
        "# X_train_selectedUni: Subset of training set. Has only univariate features\n",
        "# X_test_selectedUni: Subset of testing set. Has only univariate features\n",
        "X_train_selectedUni, X_test_selectedUni, selected_featuresUNI = univariate_feature_selection(7)"
      ],
      "execution_count":77,
      "outputs":[
        {
          "name":"stdout",
          "text":[
            "Selected features after RFE:\n",
            "\t age\n",
            "\t sex\n",
            "\t cp\n",
            "\t restecg\n",
            "\t exng\n",
            "\t oldpeak\n",
            "\t slp\n"
          ],
          "output_type":"stream"
        }
      ],
      "metadata":{
        
      }
    },
    {
      "cell_type":"code",
      "source":[
        "selected_features_dic = {'RFE':[X_train_selectedRFE, X_test_selectedRFE], \n",
        "                         'Model_based':[X_train_selectedMB, X_test_selectedMB],'Uni':[X_train_selectedUni, X_test_selectedUni]}"
      ],
      "execution_count":78,
      "outputs":[
        
      ],
      "metadata":{
        
      }
    },
    {
      "cell_type":"markdown",
      "source":[
        "After computing with various models, the most two important features are age and cp(chest pain type)."
      ],
      "attachments":{
        
      },
      "metadata":{
        
      }
    },
    {
      "cell_type":"markdown",
      "source":[
        "### 3.2 Data Exploration"
      ],
      "attachments":{
        
      },
      "metadata":{
        
      }
    },
    {
      "cell_type":"code",
      "source":[
        "import seaborn as sns\n",
        "import plotly.express as px\n",
        "from sklearn.metrics import accuracy_score, precision_score, recall_score, f1_score, classification_report, confusion_matrix, roc_curve, roc_auc_score, plot_roc_curve, plot_confusion_matrix"
      ],
      "execution_count":80,
      "outputs":[
        
      ],
      "metadata":{
        
      }
    },
    {
      "cell_type":"code",
      "source":[
        "import numpy as np\n",
        "from sklearn.preprocessing import KBinsDiscretizer\n",
        "\n",
        "#graph the prevalance of heart disease in each range of cholresterol \n",
        "discretizer = KBinsDiscretizer(n_bins=5, encode = \"onehot-dense\", strategy = \"quantile\")\n",
        "\n",
        "df_temp[\"chol\"] = df_temp[\"chol\"].replace({0:float('NaN')}).dropna(how='any')\n",
        "\n",
        "df_temp = df_temp.replace({\"output\": {\"1.0\": \"> 50% diameter narrowing\", \"0.0\": \"< 50% diameter narrowing\"}})\n",
        "\n",
        "chol_discretized = discretizer.fit_transform(df_temp[\"chol\"].dropna(how='any').values.reshape(-1, 1))\n",
        "\n",
        "chol_df = pd.DataFrame(chol_discretized, columns = [\"cholBin1\", \"cholBin2\", \"cholBin3\", \"cholBin4\", \"cholBin5\"])\n",
        "merged = pd.merge(chol_df, df_temp, left_index = True, right_index = True)\n",
        "\n",
        "for col in chol_df.columns:\n",
        "    temp = merged.where(merged[col] == 1).dropna(how='any')\n",
        "    fig = px.histogram(temp, x= col, color=\"output\", barmode='group')\n",
        "    fig.show()\n",
        "\n",
        "#https:\/\/drive.google.com\/drive\/folders\/1XsHs7CQxb-iXJaUJc7xu86uOQRLCPXfe?usp=sharing "
      ],
      "execution_count":82,
      "outputs":[
        {
          "data":{
            "text\/plain":[
              "Unsupported"
            ]
          },
          "metadata":{
            
          },
          "output_type":"display_data"
        }
      ],
      "metadata":{
        
      }
    },
    {
      "cell_type":"markdown",
      "source":[
        "### Visualization Explanation - Cholesterol\n",
        "\n",
        "This figure shows the frequency of cases of heart disease at varying levels of cholesterol. The cholesterol values were grouped into 5 different categories and then the number of heart disease cases was counted for each category. From these figures, it seems that cholesterol is not a strong indicator of heart disease as it is difficult to draw a conclusion of whether or not higher levels of cholesterol leads to more cases of heart disease. "
      ],
      "attachments":{
        
      },
      "metadata":{
        
      }
    },
    {
      "cell_type":"code",
      "source":[
        "df_temp = df_temp.replace({\"slp\" : {1: \"upsloping\", 2:\"flat\", 3: \"downsloping\"},\"output\":\n",
        " {\"1.0\": \"> 50% diameter narrowing\", \"0.0\": \"< 50% diameter narrowing\"}})\n",
        "\n",
        "df_temp[\"slp\"] = df_temp[\"slp\"].replace({0:float('NaN')}).dropna(how='any')\n",
        "\n",
        "fig = px.histogram(df_temp, x = \"slp\", color=\"output\", barmode='group', title = \"\")\n",
        "\n",
        "fig.show()\n",
        "\n",
        "#https:\/\/drive.google.com\/file\/d\/1irYufFd1NnJBu-QuTSQM3bMdNiK8wu8d\/view?usp=sharing "
      ],
      "execution_count":118,
      "outputs":[
        {
          "data":{
            "text\/plain":[
              "Unsupported"
            ]
          },
          "metadata":{
            
          },
          "output_type":"display_data"
        }
      ],
      "metadata":{
        
      }
    },
    {
      "cell_type":"markdown",
      "source":[
        "### Visualization Explanation - ST Depression\n",
        "\n",
        "In this figure, we plot the frequency of different types of electrocardiogram slopes grouped based on target values. From this, it is evident that flat slope resulted in more target values with > 50% diameter narrowing. Upsloping resulted in more target values with < 50% diameter narrowing. For downsloping, looks as if this slope type resulted in more target values with > 50% diameter narrowing though it is hard to tell due to the small sample size. \n",
        "\n",
        "Since ST depression has been suggested to be associated with heart disease it makes sense that flat and downsloping electrocardiogram slopes are more likely to be associated with the onset of heart disease (> 50% diameter narrowing), as upsloping electrocardiogram slopes have rarely been associated with ST depression (Alam et al., 2018). \n",
        "\n",
        "Alam, M., Nikus, K., Fiol, M., Bayes de Luna, A., & Birnbaum, Y. (2018). Upsloping ST depression: Is it acute ischemia? Annals of Noninvasive Electrocardiology, 24(3). https:\/\/doi.org\/10.1111\/anec.12607 "
      ],
      "attachments":{
        
      },
      "metadata":{
        
      }
    },
    {
      "cell_type":"code",
      "source":[
        "df_temp = df_temp.replace({\"thall\": {3.0: \"normal\", 6.0: \"fixed defect\", 7.0: \"reversible defect\"}})\n",
        "\n",
        "df_temp[\"thall\"] = df_temp[\"thall\"].replace({0:float('NaN')}).dropna(how='any')\n",
        "\n",
        "fig = px.histogram(df_temp, x=\"thall\", color=\"output\", barmode='group')\n",
        "fig.show()\n",
        "\n",
        "#https:\/\/drive.google.com\/file\/d\/17Kmvozw1c4HjlAj55K5JQin--2njsGn7\/view?usp=sharing "
      ],
      "execution_count":119,
      "outputs":[
        {
          "data":{
            "text\/plain":[
              "Unsupported"
            ]
          },
          "metadata":{
            
          },
          "output_type":"display_data"
        }
      ],
      "metadata":{
        
      }
    },
    {
      "cell_type":"markdown",
      "source":[
        "### Visualization Explanation - Thalassemia frequency \n",
        "\n",
        "In this figure, we plot the frequency of different types of thalassemia and visualize the target value based on the different types of thalassemia. From this, it is evident that fixed defect type of thalassemia results in the most number of cases in > 50% diameter narrowing. Reversible defect type of thalassemia results in similar numbers of > 50% and < 50% diameter narrowing. The normal type results in mostly < 50% diameter narrowing. "
      ],
      "attachments":{
        
      },
      "metadata":{
        
      }
    },
    {
      "cell_type":"markdown",
      "source":[
        "## Visualization of Dataframe Distributions\n",
        "\n",
        "**Data Exploration -- Pie chart**\n",
        "\n",
        "We are using Pie Chart to visualize some part of the dataset information, since Pie Chart can\n",
        "- display relative proportions of multiple classes of data.\n",
        "- show size of the circle can be made proportional to the total quantity it represents.\n",
        "- summarize a large data set in visual form."
      ],
      "attachments":{
        
      },
      "metadata":{
        
      }
    },
    {
      "cell_type":"code",
      "source":[
        "target.value_counts().plot(\n",
        "    kind = 'pie', \n",
        "    title = 'Target Class Distribution'\n",
        ")"
      ],
      "execution_count":85,
      "outputs":[
        {
          "data":{
            "text\/plain":[
              "<AxesSubplot:title={'center':'Target Class Distribution'}, ylabel='output'>"
            ],
            "image\/png":"[encoded data removed]"
          },
          "metadata":{
            "image\/png":{
              
            }
          },
          "output_type":"display_data"
        }
      ],
      "metadata":{
        
      }
    },
    {
      "cell_type":"markdown",
      "source":[
        "### Target Value Distribution\n",
        "\n",
        "The pie chart above shows that we have an almost balanced number of target values, which means it is qualified to be applied to further Machine Learning. And in our next calculations, there will be less possibility that it is too accurate to identify people with no disease\/real heart disease."
      ],
      "attachments":{
        
      },
      "metadata":{
        
      }
    },
    {
      "cell_type":"code",
      "source":[
        "# we seperate the output into two parts, output1 has the real Heart disease partients, \n",
        "#output2 has the patients who do not catch heart disease.\n",
        "output1 = df[df['output']==1]\n",
        "output0 = df[df['output']==0]"
      ],
      "execution_count":86,
      "outputs":[
        
      ],
      "metadata":{
        
      }
    },
    {
      "cell_type":"code",
      "source":[
        "cp = output1[['cp']].replace({0:'unknown',1:'typical angina',2:'atypical angina',3:'non-anginal pain',4:'asymptomatic'})\n",
        "\n",
        "cp.cp.value_counts().plot(\n",
        "    kind = 'pie', \n",
        "    title = 'CP Distribution of Cases'\n",
        ")"
      ],
      "execution_count":87,
      "outputs":[
        {
          "data":{
            "text\/plain":[
              "<AxesSubplot:title={'center':'CP Distribution of Cases'}, ylabel='cp'>"
            ],
            "image\/png":"[encoded data removed]"
          },
          "metadata":{
            "image\/png":{
              
            }
          },
          "output_type":"display_data"
        }
      ],
      "metadata":{
        
      }
    },
    {
      "cell_type":"markdown",
      "source":[
        "### Chest Pain Distribution\n",
        "\n",
        "The 'CP Distribution of Cases' pie chart clearly indicates that more than half of output1 have asymptomatic(level4)'s chest pain. About a quarter of output1 has non-anginal pain(level 3)'s chest pain. The number of patients with typical angina in this table is always the same as the number of patients with atypical angina. Therefore, It is possible that chest pain type is a good indicator of predicting Heart Disease. Patients with symptoms of asymptomatic chest pain or non-anginal pain should do tests to have instant diagnosis and treatment."
      ],
      "attachments":{
        
      },
      "metadata":{
        
      }
    },
    {
      "cell_type":"markdown",
      "source":[
        
      ],
      "attachments":{
        
      },
      "metadata":{
        
      }
    },
    {
      "cell_type":"code",
      "source":[
        "slp = output1[['slp']].astype('int').replace({0:'unknown',1:'upsloping',2:'flat',3:'downsloping'})\n",
        "\n",
        "slp.slp.value_counts().plot(\n",
        "    kind = 'pie', \n",
        "    title = 'slp Distribution of Cases'\n",
        ")"
      ],
      "execution_count":88,
      "outputs":[
        {
          "data":{
            "text\/plain":[
              "<AxesSubplot:title={'center':'slp Distribution of Cases'}, ylabel='slp'>"
            ],
            "image\/png":"[encoded data removed]"
          },
          "metadata":{
            "image\/png":{
              
            }
          },
          "output_type":"display_data"
        }
      ],
      "metadata":{
        
      }
    },
    {
      "cell_type":"markdown",
      "source":[
        "### Slope Distribution\n",
        "\n",
        "The 'slp Distribution of Cases' pie chart clearly indicates that more than half of output1 have flat slope of the peak exercise ST segment. Less a quarter of output1 is unknown cases. The number of patients with upsloping slope of the peak exercise ST segment in this table is twice the number of patients with downsloping slope of the peak exercise ST segment. \n",
        "SLP, as known as 'the slope of the peak exercise ST segment', a method of estimating the presence or absence of myocardial ischemia in symptomatic and asymptomatic patients. The flatter the slope of the peak exercise ST segment is, the more dangerous the patient is. The flatter slope always means presence of myocardial ischemia. Proved by \"For instance, ST elevation with an upsloping ST segment is generally considered normal, while ST elevation with a horizontal ST segment is more characteristic of myocardial ischemia\" from the NCBI website （Anthony, 2020). Therefore, patients with symptoms of flat slope of the peak exercise ST segment should do tests to have instant diagnosis and treatment.\n",
        "\n",
        "Anthony H. Kashou; Hajira Basit; Ahmad Malik.(2020). StatPearls, ST Segment\/Clinical Significance\/Characterizing the ST Segment. NCBI. Cited from https:\/\/www.ncbi.nlm.nih.gov\/books\/NBK459364\/"
      ],
      "attachments":{
        
      },
      "metadata":{
        
      }
    },
    {
      "cell_type":"code",
      "source":[
        "thal = output1[['thall']].astype('int').replace({0:'unknown',3:'normal',6:'fixed defect',7:'reversable defect'})\n",
        "\n",
        "thal.thall.value_counts().plot(\n",
        "    kind = 'pie', \n",
        "    title = 'thal Distribution of Cases'\n",
        ")"
      ],
      "execution_count":89,
      "outputs":[
        {
          "data":{
            "text\/plain":[
              "<AxesSubplot:title={'center':'thal Distribution of Cases'}, ylabel='thall'>"
            ],
            "image\/png":"[encoded data removed]"
          },
          "metadata":{
            "image\/png":{
              
            }
          },
          "output_type":"display_data"
        }
      ],
      "metadata":{
        
      }
    },
    {
      "cell_type":"markdown",
      "source":[
        "### Thalassemia Distribution\n",
        "\n",
        "The 'thal Distribution of Cases' pie chart clearly indicates that more than half of valid part of this chart have fixed defect  of the thalassemia result. Less a quarter of output1 is in reversible defect. A small part of the patients is normal after testing. The thalassemia disorder will cause three levels of defects: normal, fixed defect, reversable defect. \"A coronary stenosis is detected when a myocardial segment takes up the nuclear tracer at rest, but not during cardiac stress. This is called a \"reversible defect.\" Scarred myocardium from prior infarct will not take up tracer at all and is referred to as a \"fixed defect\" from Stress Testing Review on Healio.\n",
        "\n",
        "Healio.(2021). Stress Testing Reveiw. Healio. Cited from https:\/\/www.healio.com\/cardiology\/learn-the-heart\/cardiology-review\/topic-reviews\/stress-testing-review\n"
      ],
      "attachments":{
        
      },
      "metadata":{
        
      }
    },
    {
      "cell_type":"code",
      "source":[
        "gender = output1.sex.replace({0:'unknown',1:'female',2:'male'})\n",
        "\n",
        "gender.value_counts().plot(\n",
        "    kind = 'pie', \n",
        "    title = 'Sex Distribution of Cases',\n",
        "    \n",
        ")"
      ],
      "execution_count":90,
      "outputs":[
        {
          "data":{
            "text\/plain":[
              "<AxesSubplot:title={'center':'Sex Distribution of Cases'}, ylabel='sex'>"
            ],
            "image\/png":"[encoded data removed]"
          },
          "metadata":{
            "image\/png":{
              
            }
          },
          "output_type":"display_data"
        }
      ],
      "metadata":{
        
      }
    },
    {
      "cell_type":"markdown",
      "source":[
        "### Gender Distribution \n",
        "\n",
        "From the pie chart, 'Sex Distribution Cases' above, this visualization clearly shows that in this dataset, males have the larger possibility of catching Heart Disease than females. "
      ],
      "attachments":{
        
      },
      "metadata":{
        
      }
    },
    {
      "cell_type":"markdown",
      "source":[
        "## Correlations between selected features and target value"
      ],
      "attachments":{
        
      },
      "metadata":{
        
      }
    },
    {
      "cell_type":"code",
      "source":[
        "# first make a dataframe called df_selectedMB with selected features\n",
        "df_selectedMB = pd.DataFrame(X_train_selectedMB, columns = ['age','cp','chol', 'thalachh', 'slp', 'caa', 'thall'])\n",
        "df_selectedMB['sex'] = df.sex \n",
        "df_selectedMB.head()"
      ],
      "execution_count":91,
      "outputs":[
        {
          "data":{
            "text\/html":[
              "<div>\n",
              "<style scoped>\n",
              "    .dataframe tbody tr th:only-of-type {\n",
              "        vertical-align: middle;\n",
              "    }\n",
              "\n",
              "    .dataframe tbody tr th {\n",
              "        vertical-align: top;\n",
              "    }\n",
              "\n",
              "    .dataframe thead th {\n",
              "        text-align: right;\n",
              "    }\n",
              "<\/style>\n",
              "<table border=\"1\" class=\"dataframe\">\n",
              "  <thead>\n",
              "    <tr style=\"text-align: right;\">\n",
              "      <th><\/th>\n",
              "      <th>age<\/th>\n",
              "      <th>cp<\/th>\n",
              "      <th>chol<\/th>\n",
              "      <th>thalachh<\/th>\n",
              "      <th>slp<\/th>\n",
              "      <th>caa<\/th>\n",
              "      <th>thall<\/th>\n",
              "      <th>sex<\/th>\n",
              "    <\/tr>\n",
              "  <\/thead>\n",
              "  <tbody>\n",
              "    <tr>\n",
              "      <th>0<\/th>\n",
              "      <td>0.734694<\/td>\n",
              "      <td>0.666667<\/td>\n",
              "      <td>0.512438<\/td>\n",
              "      <td>0.648515<\/td>\n",
              "      <td>0.333333<\/td>\n",
              "      <td>0.000000<\/td>\n",
              "      <td>1.000000<\/td>\n",
              "      <td>2.0<\/td>\n",
              "    <\/tr>\n",
              "    <tr>\n",
              "      <th>1<\/th>\n",
              "      <td>0.224490<\/td>\n",
              "      <td>0.333333<\/td>\n",
              "      <td>0.399668<\/td>\n",
              "      <td>0.524752<\/td>\n",
              "      <td>0.000000<\/td>\n",
              "      <td>0.000000<\/td>\n",
              "      <td>0.000000<\/td>\n",
              "      <td>2.0<\/td>\n",
              "    <\/tr>\n",
              "    <tr>\n",
              "      <th>2<\/th>\n",
              "      <td>0.653061<\/td>\n",
              "      <td>0.000000<\/td>\n",
              "      <td>0.341625<\/td>\n",
              "      <td>0.653465<\/td>\n",
              "      <td>0.333333<\/td>\n",
              "      <td>0.666667<\/td>\n",
              "      <td>1.000000<\/td>\n",
              "      <td>1.0<\/td>\n",
              "    <\/tr>\n",
              "    <tr>\n",
              "      <th>3<\/th>\n",
              "      <td>0.326531<\/td>\n",
              "      <td>0.666667<\/td>\n",
              "      <td>0.389718<\/td>\n",
              "      <td>0.891089<\/td>\n",
              "      <td>0.666667<\/td>\n",
              "      <td>0.000000<\/td>\n",
              "      <td>0.857143<\/td>\n",
              "      <td>2.0<\/td>\n",
              "    <\/tr>\n",
              "    <tr>\n",
              "      <th>4<\/th>\n",
              "      <td>0.816327<\/td>\n",
              "      <td>0.666667<\/td>\n",
              "      <td>0.459370<\/td>\n",
              "      <td>0.747525<\/td>\n",
              "      <td>0.333333<\/td>\n",
              "      <td>0.333333<\/td>\n",
              "      <td>1.000000<\/td>\n",
              "      <td>1.0<\/td>\n",
              "    <\/tr>\n",
              "  <\/tbody>\n",
              "<\/table>\n",
              "<\/div>"
            ]
          },
          "metadata":{
            
          },
          "output_type":"display_data"
        }
      ],
      "metadata":{
        
      }
    },
    {
      "cell_type":"markdown",
      "source":[
        "**The correlation between the all features**"
      ],
      "attachments":{
        
      },
      "metadata":{
        
      }
    },
    {
      "cell_type":"code",
      "source":[
        "# then visualize the selectedMB dataframe \n",
        "\n",
        "figmb = px.scatter_matrix(df, dimensions = df.columns, color = 'sex')\n",
        "\n",
        "#https:\/\/drive.google.com\/file\/d\/1F8V6gUhlhgMgRldqrcjnp9T4gGi_-UbD\/view?usp=sharing \n",
        "\n",
        "figmb.show()"
      ],
      "execution_count":120,
      "outputs":[
        {
          "data":{
            "text\/plain":[
              "Unsupported"
            ]
          },
          "metadata":{
            
          },
          "output_type":"display_data"
        }
      ],
      "metadata":{
        
      }
    },
    {
      "cell_type":"markdown",
      "source":[
        "**The correlation between the selected features**"
      ],
      "attachments":{
        
      },
      "metadata":{
        
      }
    },
    {
      "cell_type":"code",
      "source":[
        "# then visualize the selectedMB dataframe \n",
        "\n",
        "figmb = px.scatter_matrix(df_selectedMB, dimensions = df_selectedMB.columns, color = 'sex')\n",
        "\n",
        "#https:\/\/drive.google.com\/file\/d\/132r7wBr9nZDZl0inMUSFOXl0aknywFh5\/view?usp=sharing \n",
        "figmb.show()"
      ],
      "execution_count":92,
      "outputs":[
        {
          "data":{
            "text\/plain":[
              "Unsupported"
            ]
          },
          "metadata":{
            
          },
          "output_type":"display_data"
        }
      ],
      "metadata":{
        
      }
    },
    {
      "cell_type":"markdown",
      "source":[
        "The above scatter plot shows the correlation between the selected features which were generated above. We could find that most features do not have any relationship with the other features, since there are no clear linear relationships between these features."
      ],
      "attachments":{
        
      },
      "metadata":{
        
      }
    },
    {
      "cell_type":"code",
      "source":[
        "# heatmap showing correlations between all numeric variables\n",
        "import matplotlib.pyplot as plt\n",
        "\n",
        "drop_na_features = features.drop(columns=['cp','sex','restecg','fbs','exng','slp','caa','thall']).replace({0:float('NaN')}).dropna(how='any')\n",
        "\n",
        "plt.figure(figsize=(17, 17))\n",
        "sns.heatmap(drop_na_features.corr(), square=True, annot=True)\n",
        "plt.show()"
      ],
      "execution_count":94,
      "outputs":[
        
      ],
      "metadata":{
        
      }
    },
    {
      "cell_type":"markdown",
      "source":[
        "### Visualization Explanation - Heatmap\n",
        "\n",
        "This heatmap shows the correlations between age, trtbps, chol, thalachh, oldpeak in our dataset. The correlation values show that the result of heart disease does not have strong correlation with any one feature in our dataset - this is important to our analysis because we suspect that the diagnosis of heart disease is affected by a range of physical or pathological factors. These correlations range from nonexistent to moderate."
      ],
      "attachments":{
        
      },
      "metadata":{
        
      }
    },
    {
      "cell_type":"code",
      "source":[
        "new = features.astype('int')\n",
        "new['output'] = df['output'].astype('str')"
      ],
      "execution_count":96,
      "outputs":[
        
      ],
      "metadata":{
        
      }
    },
    {
      "cell_type":"code",
      "source":[
        "import seaborn as sns\n",
        "\n",
        "feature_wanted=['age','trtbps']\n",
        "\n",
        "df_for_graph = df\n",
        "df_for_graph['output'] = df.output.astype('str')\n",
        "df_for_graph = df_for_graph.replace({0:float('NaN')}).dropna(how='any')\n",
        "\n",
        "#plt.figure(figsize=(10, 8))\n",
        "graph = sns.lmplot(x=\"age\", y=\"trtbps\", hue = 'output',data=df_for_graph)"
      ],
      "execution_count":97,
      "outputs":[
        {
          "data":{
            "image\/png":"[encoded data removed]"
          },
          "metadata":{
            "image\/png":{
              
            }
          },
          "output_type":"display_data"
        }
      ],
      "metadata":{
        
      }
    },
    {
      "cell_type":"code",
      "source":[
        "feature_wanted=['age','thalachh']\n",
        "\n",
        "df_for_graph = df\n",
        "df_for_graph['output'] = df.output.astype('str')\n",
        "df_for_graph = df_for_graph.replace({0:float('NaN')}).dropna(how='any')\n",
        "\n",
        "graph2 = sns.lmplot(x=\"age\", y=\"thalachh\", hue = 'output',data=df_for_graph)"
      ],
      "execution_count":98,
      "outputs":[
        {
          "data":{
            "image\/png":"[encoded data removed]"
          },
          "metadata":{
            "image\/png":{
              
            }
          },
          "output_type":"display_data"
        }
      ],
      "metadata":{
        
      }
    },
    {
      "cell_type":"markdown",
      "source":[
        "### Visualization Explanation - Regression Lines\n",
        "\n",
        "\n",
        "In the two figures above, we plot the value of our selected features - the value of trtbps and value of thalachh - against the age of patients to examine the strength of the correlation between age and the value of these two featurs. In all of the figures, we observe a weak to moderate positive correlation between age and the value of trtbps and thalachh of the negative patients. "
      ],
      "attachments":{
        
      },
      "metadata":{
        
      }
    },
    {
      "cell_type":"code",
      "source":[
        "feature_wanted=['age','oldpeak']\n",
        "\n",
        "df_for_graph = df\n",
        "df_for_graph['output'] = df.output.astype('str')\n",
        "df_for_graph = df_for_graph.replace({0:float('NaN')}).dropna(how='any')\n",
        "\n",
        "graph2 = sns.lmplot(x=\"age\", y=\"oldpeak\", hue = 'output',data=df_for_graph)"
      ],
      "execution_count":99,
      "outputs":[
        {
          "data":{
            "image\/png":"[encoded data removed]"
          },
          "metadata":{
            "image\/png":{
              
            }
          },
          "output_type":"display_data"
        }
      ],
      "metadata":{
        
      }
    },
    {
      "cell_type":"markdown",
      "source":[
        "Visualization Explanation - Regression Lines\n",
        "\n",
        "In this figure above, we plot the value of our 'oldpeak' against the age of patients to examine the strength of the correlation between age and the value of oldpeak. We then observe a weak to moderate negative correlation between age and the value of oldpeak of the positive patients. The lower the age of patient, the higher the ST depression value is. "
      ],
      "attachments":{
        
      },
      "metadata":{
        
      }
    },
    {
      "cell_type":"markdown",
      "source":[
        "### 3.3 Model Training"
      ],
      "attachments":{
        
      },
      "metadata":{
        
      }
    },
    {
      "cell_type":"markdown",
      "source":[
        "### Applying Machine Learning Algorithms\n",
        "#### K-Neariest Neighbors, Support Vector Machine, Gaussian Naive Bayes, Decision Tress"
      ],
      "attachments":{
        
      },
      "metadata":{
        
      }
    },
    {
      "cell_type":"code",
      "source":[
        "# create a dictionary of estimators for classification\n",
        "from sklearn.model_selection import train_test_split\n",
        "from sklearn.neighbors import KNeighborsClassifier\n",
        "from sklearn.svm import LinearSVC\n",
        "from sklearn.naive_bayes import GaussianNB\n",
        "from sklearn.tree import DecisionTreeClassifier\n",
        "\n",
        "estimators = {'k-Nearest Neighbor': KNeighborsClassifier(), \n",
        "            'Support Vector Machine' : LinearSVC(max_iter=100000), \n",
        "            'Gaussian Naive Bayes': GaussianNB(), \n",
        "              'Decision Tree': DecisionTreeClassifier()}"
      ],
      "execution_count":100,
      "outputs":[
        
      ],
      "metadata":{
        
      }
    },
    {
      "cell_type":"code",
      "source":[
        "# function executes all estimators when all features are used with default splitting method(75%+25%)\n",
        "def preprocessed_classification_without_features_selection():\n",
        "    print('TEST RESULTS WHEN ALL FEATURES USED:','\\n_______________________________________\\n')\n",
        "    for k, v in estimators.items():\n",
        "        model = v.fit(X=X_train, y=y_train)\n",
        "        accuracy_train = model.score(X_train, y_train)\n",
        "        accuracy_test = model.score(X_test, y_test)\n",
        "        print(k,':\\n\\tClassification accuracy for training set: ',accuracy_train,'\\n','\\tClassification accuracy for testing set:',accuracy_test,'\\n')"
      ],
      "execution_count":101,
      "outputs":[
        
      ],
      "metadata":{
        
      }
    },
    {
      "cell_type":"code",
      "source":[
        "preprocessed_classification_without_features_selection()"
      ],
      "execution_count":102,
      "outputs":[
        {
          "name":"stdout",
          "text":[
            "TEST RESULTS WHEN ALL FEATURES USED: \n",
            "_______________________________________\n",
            "\n",
            "k-Nearest Neighbor :\n",
            "\tClassification accuracy for training set:  0.6808510638297872 \n",
            " \tClassification accuracy for testing set: 0.49812734082397003 \n",
            "\n",
            "Support Vector Machine :\n",
            "\tClassification accuracy for training set:  0.7321652065081352 \n",
            " \tClassification accuracy for testing set: 0.6928838951310862 \n",
            "\n",
            "Gaussian Naive Bayes :\n",
            "\tClassification accuracy for training set:  0.7171464330413017 \n",
            " \tClassification accuracy for testing set: 0.704119850187266 \n",
            "\n",
            "Decision Tree :\n",
            "\tClassification accuracy for training set:  1.0 \n",
            " \tClassification accuracy for testing set: 0.7415730337078652 \n",
            "\n"
          ],
          "output_type":"stream"
        },
        {
          "name":"stderr",
          "text":[
            "\/opt\/python\/envs\/default\/lib\/python3.8\/site-packages\/sklearn\/svm\/_base.py:985: ConvergenceWarning:\n",
            "\n",
            "Liblinear failed to converge, increase the number of iterations.\n",
            "\n"
          ],
          "output_type":"stream"
        }
      ],
      "metadata":{
        
      }
    },
    {
      "cell_type":"markdown",
      "source":[
        "From the 'test result when all features used', the Decision Tree algorithm has the highest accuracy with testing set. SVM is the second effective algorithm, Gaussian Naive Bayes is the third one, and K-Nearest Neighbor is the one with lowest accracy score. \n",
        "\n",
        "When all the features are being used, it seems as if there is some overfitting which has occured. For example, in the decision tree machine learning algorithm, the classification for the training set is 100% but it only has a testing accuracy of 74%. The large difference between training set and testing set accuracy suggests that overfitting has occured. This is also present in the K-Nearest Neighbor algorithm which has a training set accuracy of 68% and a testing set accuracy of 50%, once again suggesting overfitting. "
      ],
      "attachments":{
        
      },
      "metadata":{
        
      }
    },
    {
      "cell_type":"code",
      "source":[
        "# function executes all estimators with different feature selection methods when only selected features are used\n",
        "# using default splitting method(75%+25%)\n",
        "\n",
        "def preprocessed_classification_with_features_selection():\n",
        "    print('TEST RESULTS WHEN ONLY SELECTED FEATURES USED:','\\n_______________________________________________\\n')\n",
        "    for k, v in estimators.items():\n",
        "        print('\\n-------------------------\\n',k,':\\n-------------------------')\n",
        "        for method, X_train_test in selected_features_dic.items():\n",
        "            model = v.fit(X=X_train_test[0], y=y_train)\n",
        "            accuracy_train = model.score(X_train_test[0], y_train)\n",
        "            accuracy_test = model.score(X_train_test[1], y_test)\n",
        "            print(method,':\\n\\tClassification accuracy for training set: ',accuracy_train,'\\n','\\tClassification accuracy for testing set:',accuracy_test,'\\n')\n",
        "        "
      ],
      "execution_count":103,
      "outputs":[
        
      ],
      "metadata":{
        
      }
    },
    {
      "cell_type":"code",
      "source":[
        "preprocessed_classification_with_features_selection()"
      ],
      "execution_count":104,
      "outputs":[
        {
          "name":"stdout",
          "text":[
            "TEST RESULTS WHEN ONLY SELECTED FEATURES USED: \n",
            "_______________________________________________\n",
            "\n",
            "\n",
            "-------------------------\n",
            " k-Nearest Neighbor :\n",
            "-------------------------\n",
            "RFE :\n",
            "\tClassification accuracy for training set:  0.8110137672090113 \n",
            " \tClassification accuracy for testing set: 0.7827715355805244 \n",
            "\n",
            "Model_based :\n",
            "\tClassification accuracy for training set:  0.8172715894868585 \n",
            " \tClassification accuracy for testing set: 0.7715355805243446 \n",
            "\n",
            "Uni :\n",
            "\tClassification accuracy for training set:  0.8197747183979975 \n",
            " \tClassification accuracy for testing set: 0.7453183520599251 \n",
            "\n",
            "\n",
            "-------------------------\n",
            " Support Vector Machine :\n",
            "-------------------------\n",
            "RFE :\n",
            "\tClassification accuracy for training set:  0.7296620775969962 \n",
            " \tClassification accuracy for testing set: 0.7228464419475655 \n",
            "\n",
            "Model_based :\n",
            "\tClassification accuracy for training set:  0.7346683354192741 \n",
            " \tClassification accuracy for testing set: 0.7303370786516854 \n",
            "\n",
            "Uni :\n",
            "\tClassification accuracy for training set:  0.7259073842302879 \n",
            " \tClassification accuracy for testing set: 0.6928838951310862 \n",
            "\n",
            "\n",
            "-------------------------\n",
            " Gaussian Naive Bayes :\n",
            "-------------------------\n",
            "RFE :\n",
            "\tClassification accuracy for training set:  0.7158948685857321 \n",
            " \tClassification accuracy for testing set: 0.7191011235955056 \n",
            "\n",
            "Model_based :\n",
            "\tClassification accuracy for training set:  0.723404255319149 \n",
            " \tClassification accuracy for testing set: 0.7228464419475655 \n",
            "\n",
            "Uni :\n",
            "\tClassification accuracy for training set:  0.7121401752190237 \n",
            " \tClassification accuracy for testing set: 0.6704119850187266 \n",
            "\n",
            "\n",
            "-------------------------\n",
            " Decision Tree :\n",
            "-------------------------\n",
            "RFE :\n",
            "\tClassification accuracy for training set:  1.0 \n",
            " \tClassification accuracy for testing set: 0.7490636704119851 \n",
            "\n",
            "Model_based :\n",
            "\tClassification accuracy for training set:  1.0 \n",
            " \tClassification accuracy for testing set: 0.7191011235955056 \n",
            "\n",
            "Uni :\n",
            "\tClassification accuracy for training set:  0.986232790988736 \n",
            " \tClassification accuracy for testing set: 0.6816479400749064 \n",
            "\n"
          ],
          "output_type":"stream"
        }
      ],
      "metadata":{
        
      }
    },
    {
      "cell_type":"code",
      "source":[
        "# using Cross Validation(kfold=10)\n",
        "# function executes all estimators when all features are used\n",
        "from sklearn.model_selection import KFold\n",
        "from sklearn.model_selection import cross_val_score\n",
        "\n",
        "def classifiers_cross_validation_without_feature_selection():\n",
        "    kfold = KFold(n_splits=10, random_state=3000, shuffle=True)\n",
        "    \n",
        "    for k,v in estimators.items():\n",
        "        scores = cross_val_score(estimator=v, X=features, y=target, cv=kfold)\n",
        "\n",
        "        print(k,\":\",f'\\n\\tmean accuracy: {scores.mean():.2%}',f'standard deviation={scores.std():.2%}\\n')"
      ],
      "execution_count":105,
      "outputs":[
        
      ],
      "metadata":{
        
      }
    },
    {
      "cell_type":"code",
      "source":[
        "# using Cross Validation(kfold=10)\n",
        "# function executes all estimators using different feature selection methods when only selected features are used\n",
        "feature_selected_list_dic = {'Model_based':selected_featuresMB,'RFE':selected_featuresRFE,'Uni':selected_featuresUNI}\n",
        "\n",
        "def classifiers_cross_validation_with_feature_selection():\n",
        "    kfold = KFold(n_splits=10, random_state=3000, shuffle=True)\n",
        "    \n",
        "    for k,v in estimators.items():\n",
        "        print('\\n-------------------------\\n',k,':\\n-------------------------')\n",
        "        for method, list_ in feature_selected_list_dic.items():\n",
        "            feature_selected = features[list_]\n",
        "            scores = cross_val_score(estimator=v, X=feature_selected, y=target, cv=kfold)\n",
        "            print(method,\":\",f'\\n\\tmean accuracy: {scores.mean():.2%}',f'standard deviation={scores.std():.2%}\\n')"
      ],
      "execution_count":106,
      "outputs":[
        
      ],
      "metadata":{
        
      }
    },
    {
      "cell_type":"code",
      "source":[
        "print('CROSS VALIDATION TEST RESULTS WHEN ALL FEATURES USED:','\\n_______________________________________\\n')\n",
        "classifiers_cross_validation_without_feature_selection()\n",
        "print('\\n\\nCROSS VALIDATION TEST RESULTS WHEN ONLY SELECTED FEATURES USED:','\\n_______________________________________________\\n')\n",
        "classifiers_cross_validation_with_feature_selection()"
      ],
      "execution_count":107,
      "outputs":[
        {
          "name":"stdout",
          "text":[
            "CROSS VALIDATION TEST RESULTS WHEN ALL FEATURES USED: \n",
            "_______________________________________\n",
            "\n",
            "k-Nearest Neighbor : \n",
            "\tmean accuracy: 43.71% standard deviation=6.35%\n",
            "\n",
            "Support Vector Machine : \n",
            "\tmean accuracy: 69.97% standard deviation=6.54%\n",
            "\n",
            "Gaussian Naive Bayes : \n",
            "\tmean accuracy: 69.88% standard deviation=4.75%\n",
            "\n",
            "Decision Tree : \n",
            "\tmean accuracy: 72.23% standard deviation=4.12%\n",
            "\n",
            "\n",
            "\n",
            "CROSS VALIDATION TEST RESULTS WHEN ONLY SELECTED FEATURES USED: \n",
            "_______________________________________________\n",
            "\n",
            "\n",
            "-------------------------\n",
            " k-Nearest Neighbor :\n",
            "-------------------------\n",
            "Model_based : \n",
            "\tmean accuracy: 43.61% standard deviation=6.15%\n",
            "\n",
            "RFE : \n",
            "\tmean accuracy: 43.04% standard deviation=6.47%\n",
            "\n",
            "Uni : \n",
            "\tmean accuracy: 69.88% standard deviation=3.84%\n",
            "\n",
            "\n",
            "-------------------------\n",
            " Support Vector Machine :\n",
            "-------------------------\n",
            "Model_based : \n",
            "\tmean accuracy: 67.80% standard deviation=6.93%\n",
            "\n",
            "RFE : \n",
            "\tmean accuracy: 65.66% standard deviation=6.59%\n",
            "\n",
            "Uni : \n",
            "\tmean accuracy: 72.22% standard deviation=4.83%\n",
            "\n",
            "\n",
            "-------------------------\n",
            " Gaussian Naive Bayes :\n",
            "-------------------------\n",
            "Model_based : \n",
            "\tmean accuracy: 70.62% standard deviation=5.81%\n",
            "\n",
            "RFE : \n",
            "\tmean accuracy: 70.72% standard deviation=5.18%\n",
            "\n",
            "Uni : \n",
            "\tmean accuracy: 70.82% standard deviation=4.51%\n",
            "\n",
            "\n",
            "-------------------------\n",
            " Decision Tree :\n",
            "-------------------------\n",
            "Model_based : \n",
            "\tmean accuracy: 70.63% standard deviation=5.15%\n",
            "\n",
            "RFE : \n",
            "\tmean accuracy: 70.35% standard deviation=3.63%\n",
            "\n",
            "Uni : \n",
            "\tmean accuracy: 69.04% standard deviation=4.82%\n",
            "\n"
          ],
          "output_type":"stream"
        },
        {
          "name":"stderr",
          "text":[
            "\/opt\/python\/envs\/default\/lib\/python3.8\/site-packages\/sklearn\/svm\/_base.py:985: ConvergenceWarning:\n",
            "\n",
            "Liblinear failed to converge, increase the number of iterations.\n",
            "\n",
            "\/opt\/python\/envs\/default\/lib\/python3.8\/site-packages\/sklearn\/svm\/_base.py:985: ConvergenceWarning:\n",
            "\n",
            "Liblinear failed to converge, increase the number of iterations.\n",
            "\n",
            "\/opt\/python\/envs\/default\/lib\/python3.8\/site-packages\/sklearn\/svm\/_base.py:985: ConvergenceWarning:\n",
            "\n",
            "Liblinear failed to converge, increase the number of iterations.\n",
            "\n",
            "\/opt\/python\/envs\/default\/lib\/python3.8\/site-packages\/sklearn\/svm\/_base.py:985: ConvergenceWarning:\n",
            "\n",
            "Liblinear failed to converge, increase the number of iterations.\n",
            "\n",
            "\/opt\/python\/envs\/default\/lib\/python3.8\/site-packages\/sklearn\/svm\/_base.py:985: ConvergenceWarning:\n",
            "\n",
            "Liblinear failed to converge, increase the number of iterations.\n",
            "\n",
            "\/opt\/python\/envs\/default\/lib\/python3.8\/site-packages\/sklearn\/svm\/_base.py:985: ConvergenceWarning:\n",
            "\n",
            "Liblinear failed to converge, increase the number of iterations.\n",
            "\n",
            "\/opt\/python\/envs\/default\/lib\/python3.8\/site-packages\/sklearn\/svm\/_base.py:985: ConvergenceWarning:\n",
            "\n",
            "Liblinear failed to converge, increase the number of iterations.\n",
            "\n",
            "\/opt\/python\/envs\/default\/lib\/python3.8\/site-packages\/sklearn\/svm\/_base.py:985: ConvergenceWarning:\n",
            "\n",
            "Liblinear failed to converge, increase the number of iterations.\n",
            "\n",
            "\/opt\/python\/envs\/default\/lib\/python3.8\/site-packages\/sklearn\/svm\/_base.py:985: ConvergenceWarning:\n",
            "\n",
            "Liblinear failed to converge, increase the number of iterations.\n",
            "\n",
            "\/opt\/python\/envs\/default\/lib\/python3.8\/site-packages\/sklearn\/svm\/_base.py:985: ConvergenceWarning:\n",
            "\n",
            "Liblinear failed to converge, increase the number of iterations.\n",
            "\n",
            "\/opt\/python\/envs\/default\/lib\/python3.8\/site-packages\/sklearn\/svm\/_base.py:985: ConvergenceWarning:\n",
            "\n",
            "Liblinear failed to converge, increase the number of iterations.\n",
            "\n",
            "\/opt\/python\/envs\/default\/lib\/python3.8\/site-packages\/sklearn\/svm\/_base.py:985: ConvergenceWarning:\n",
            "\n",
            "Liblinear failed to converge, increase the number of iterations.\n",
            "\n",
            "\/opt\/python\/envs\/default\/lib\/python3.8\/site-packages\/sklearn\/svm\/_base.py:985: ConvergenceWarning:\n",
            "\n",
            "Liblinear failed to converge, increase the number of iterations.\n",
            "\n",
            "\/opt\/python\/envs\/default\/lib\/python3.8\/site-packages\/sklearn\/svm\/_base.py:985: ConvergenceWarning:\n",
            "\n",
            "Liblinear failed to converge, increase the number of iterations.\n",
            "\n",
            "\/opt\/python\/envs\/default\/lib\/python3.8\/site-packages\/sklearn\/svm\/_base.py:985: ConvergenceWarning:\n",
            "\n",
            "Liblinear failed to converge, increase the number of iterations.\n",
            "\n",
            "\/opt\/python\/envs\/default\/lib\/python3.8\/site-packages\/sklearn\/svm\/_base.py:985: ConvergenceWarning:\n",
            "\n",
            "Liblinear failed to converge, increase the number of iterations.\n",
            "\n",
            "\/opt\/python\/envs\/default\/lib\/python3.8\/site-packages\/sklearn\/svm\/_base.py:985: ConvergenceWarning:\n",
            "\n",
            "Liblinear failed to converge, increase the number of iterations.\n",
            "\n",
            "\/opt\/python\/envs\/default\/lib\/python3.8\/site-packages\/sklearn\/svm\/_base.py:985: ConvergenceWarning:\n",
            "\n",
            "Liblinear failed to converge, increase the number of iterations.\n",
            "\n",
            "\/opt\/python\/envs\/default\/lib\/python3.8\/site-packages\/sklearn\/svm\/_base.py:985: ConvergenceWarning:\n",
            "\n",
            "Liblinear failed to converge, increase the number of iterations.\n",
            "\n",
            "\/opt\/python\/envs\/default\/lib\/python3.8\/site-packages\/sklearn\/svm\/_base.py:985: ConvergenceWarning:\n",
            "\n",
            "Liblinear failed to converge, increase the number of iterations.\n",
            "\n",
            "\/opt\/python\/envs\/default\/lib\/python3.8\/site-packages\/sklearn\/svm\/_base.py:985: ConvergenceWarning:\n",
            "\n",
            "Liblinear failed to converge, increase the number of iterations.\n",
            "\n",
            "\/opt\/python\/envs\/default\/lib\/python3.8\/site-packages\/sklearn\/svm\/_base.py:985: ConvergenceWarning:\n",
            "\n",
            "Liblinear failed to converge, increase the number of iterations.\n",
            "\n",
            "\/opt\/python\/envs\/default\/lib\/python3.8\/site-packages\/sklearn\/svm\/_base.py:985: ConvergenceWarning:\n",
            "\n",
            "Liblinear failed to converge, increase the number of iterations.\n",
            "\n",
            "\/opt\/python\/envs\/default\/lib\/python3.8\/site-packages\/sklearn\/svm\/_base.py:985: ConvergenceWarning:\n",
            "\n",
            "Liblinear failed to converge, increase the number of iterations.\n",
            "\n",
            "\/opt\/python\/envs\/default\/lib\/python3.8\/site-packages\/sklearn\/svm\/_base.py:985: ConvergenceWarning:\n",
            "\n",
            "Liblinear failed to converge, increase the number of iterations.\n",
            "\n",
            "\/opt\/python\/envs\/default\/lib\/python3.8\/site-packages\/sklearn\/svm\/_base.py:985: ConvergenceWarning:\n",
            "\n",
            "Liblinear failed to converge, increase the number of iterations.\n",
            "\n",
            "\/opt\/python\/envs\/default\/lib\/python3.8\/site-packages\/sklearn\/svm\/_base.py:985: ConvergenceWarning:\n",
            "\n",
            "Liblinear failed to converge, increase the number of iterations.\n",
            "\n",
            "\/opt\/python\/envs\/default\/lib\/python3.8\/site-packages\/sklearn\/svm\/_base.py:985: ConvergenceWarning:\n",
            "\n",
            "Liblinear failed to converge, increase the number of iterations.\n",
            "\n",
            "\/opt\/python\/envs\/default\/lib\/python3.8\/site-packages\/sklearn\/svm\/_base.py:985: ConvergenceWarning:\n",
            "\n",
            "Liblinear failed to converge, increase the number of iterations.\n",
            "\n",
            "\/opt\/python\/envs\/default\/lib\/python3.8\/site-packages\/sklearn\/svm\/_base.py:985: ConvergenceWarning:\n",
            "\n",
            "Liblinear failed to converge, increase the number of iterations.\n",
            "\n",
            "\/opt\/python\/envs\/default\/lib\/python3.8\/site-packages\/sklearn\/svm\/_base.py:985: ConvergenceWarning:\n",
            "\n",
            "Liblinear failed to converge, increase the number of iterations.\n",
            "\n",
            "\/opt\/python\/envs\/default\/lib\/python3.8\/site-packages\/sklearn\/svm\/_base.py:985: ConvergenceWarning:\n",
            "\n",
            "Liblinear failed to converge, increase the number of iterations.\n",
            "\n",
            "\/opt\/python\/envs\/default\/lib\/python3.8\/site-packages\/sklearn\/svm\/_base.py:985: ConvergenceWarning:\n",
            "\n",
            "Liblinear failed to converge, increase the number of iterations.\n",
            "\n",
            "\/opt\/python\/envs\/default\/lib\/python3.8\/site-packages\/sklearn\/svm\/_base.py:985: ConvergenceWarning:\n",
            "\n",
            "Liblinear failed to converge, increase the number of iterations.\n",
            "\n",
            "\/opt\/python\/envs\/default\/lib\/python3.8\/site-packages\/sklearn\/svm\/_base.py:985: ConvergenceWarning:\n",
            "\n",
            "Liblinear failed to converge, increase the number of iterations.\n",
            "\n",
            "\/opt\/python\/envs\/default\/lib\/python3.8\/site-packages\/sklearn\/svm\/_base.py:985: ConvergenceWarning:\n",
            "\n",
            "Liblinear failed to converge, increase the number of iterations.\n",
            "\n",
            "\/opt\/python\/envs\/default\/lib\/python3.8\/site-packages\/sklearn\/svm\/_base.py:985: ConvergenceWarning:\n",
            "\n",
            "Liblinear failed to converge, increase the number of iterations.\n",
            "\n",
            "\/opt\/python\/envs\/default\/lib\/python3.8\/site-packages\/sklearn\/svm\/_base.py:985: ConvergenceWarning:\n",
            "\n",
            "Liblinear failed to converge, increase the number of iterations.\n",
            "\n",
            "\/opt\/python\/envs\/default\/lib\/python3.8\/site-packages\/sklearn\/svm\/_base.py:985: ConvergenceWarning:\n",
            "\n",
            "Liblinear failed to converge, increase the number of iterations.\n",
            "\n",
            "\/opt\/python\/envs\/default\/lib\/python3.8\/site-packages\/sklearn\/svm\/_base.py:985: ConvergenceWarning:\n",
            "\n",
            "Liblinear failed to converge, increase the number of iterations.\n",
            "\n"
          ],
          "output_type":"stream"
        }
      ],
      "metadata":{
        
      }
    },
    {
      "cell_type":"markdown",
      "source":[
        "## 3.4 Model Optimization"
      ],
      "attachments":{
        
      },
      "metadata":{
        
      }
    },
    {
      "cell_type":"markdown",
      "source":[
        "First, we use two different methods to split train set and test set: one is the default three-quarters and one-quarter separation method, and the other is Cross validation. With these two methods, we use the same machine learning models for classification problems to test our dataset. At the same time, we tried to test these machine learning algorithms in different situations. We executed the machine learning model with and without feature selection, and we use different selection methods (Recursive Feature Elimination, Model-Based Feature Selection, Univariate Selection). Since Model-Based Feature Selection selected 7 features, we also selected 7 features when using ecursive Feature Elimination and Univariate Selection.\n",
        "\n",
        "**Which Model Performed Best?**\n",
        "\n",
        "K-nearest neighbors with selected features using Model-based feature selection method when the train set and the test set were split into 75% and 25% resulted in the highest predictions accuracies for our testing set. It achived an accuracy on the testing set of .798.\n",
        "\n",
        "**Which Model Performed Worst?**\n",
        "\n",
        "Surprisingly, K-nearest neighbor showed both the highest and the lowest accuracy of all cases. K_nearest Neighbor with RFE selected features yielded an accuracy value on the testing set of 0.403 and a standard deviation of 6.15% when using Cross Validation.\n",
        " \n",
        "\n",
        "**Consider Hypotheses**\n",
        "\n",
        "* **Hypothesis about best machine learninig model:**\n",
        "\n",
        "    - Null: K-Nearest Neighbor will not have the highest accuracy in predicting heart diease. (H4, 0)\n",
        "\n",
        "    - Alternative: k-Nearest Neighbor will be the two machine learning models which will have the highest accuracy in predicting heart disease. (H4, 1)\n",
        "\n",
        "    - **Evaluation:** Before hyperparameter tuning, H4,1 is supported: k-Nearest Neighbor is the best predictor of heart disease with RFE features selection when the dataset is split by a default method into 75% and 25*. It resulted in an accuracy on the testing set of .798.\n",
        "\n",
        "* **Hypotheses about feature selection**\n",
        "\n",
        "  * Null: Feature selection will NOT drastically improve the accuracies of the models. (H5, 0)\n",
        "  * Alternative: Feature selection will drastically improve the accuracies of the models. (H5, 1)\n",
        "\n",
        "  * **Evaluation:** Before hyperparameter tuning, H5,0 is supported: using feature selection do NOT Drastically improve the accuracies of the models. According to the results, only the performance of k-Nearest Neighbor has been greatly improved by feature selection(imporve more than 25%), whereas other mechine learning algorithoms(Support Vector Machine, Gaussian Naive Bayes, Decision Tree) with feature selction ultimately reaulted in the similiar presiction accuracies to these models without features selection (do not change more than 1%).\n",
        "\n",
        "\n",
        "* **Hypotheses about split methods**\n",
        "\n",
        "  * Null: Different split methods will NOT drastically change the accuracies of the models. (H6, 0)\n",
        "  * Alternative: Different split methods will drastically change the accuracies of the models. (H6, 1)\n",
        "\n",
        "  * **Evaluation:** Before hyperparameter tuning, H6,0 is supported: using different splitting methods do NOT Drastically improve the accuracies of the models. According to the results, all of four mechine learning algorithoms(Support Vector Machine, Gaussian Naive Bayes, Decision Tree) with the dataset that is splitted by cross validation(kfold=10) ultimately reaulted in the similiar presiction accuracies to these models with the dataset splitted into 75% and 25% (do not change more than 1%)."
      ],
      "attachments":{
        
      },
      "metadata":{
        
      }
    },
    {
      "cell_type":"markdown",
      "source":[
        "## 3.5 Model Testing and Optimization"
      ],
      "attachments":{
        
      },
      "metadata":{
        
      }
    },
    {
      "cell_type":"code",
      "source":[
        "# Gridsearch for knn with normal splitting\n",
        "from sklearn.model_selection import GridSearchCV\n",
        "\n",
        "def grid_search_kNN(n_neighbors_list,metrics_list):\n",
        "    param_grid = {'n_neighbors':n_neighbors_list,'metric':metrics_list}\n",
        "    \n",
        "    grid_search = GridSearchCV(KNeighborsClassifier(),param_grid,cv=5)\n",
        "\n",
        "    grid_search.fit(X=X_train_selectedRFE, y=y_train)\n",
        "    \n",
        "    print('Best parameters: ',grid_search.best_params_)\n",
        "    print('Training set score with best parameters: ',grid_search.score(X_train_selectedRFE, y_train))\n",
        "    print('Test set score with best parameters: ',grid_search.score(X_test_selectedRFE, y_test))"
      ],
      "execution_count":108,
      "outputs":[
        
      ],
      "metadata":{
        
      }
    },
    {
      "cell_type":"code",
      "source":[
        "grid_search_kNN([1,2,3,4,5,6,7,8,9,10,11,12,13,14,15,16,17,18,20,21,22,23,24,25,26,27,28,100,120,130,150,200,300,400,500],[\"euclidean\", \"manhattan\", \"minkowski\"])"
      ],
      "execution_count":109,
      "outputs":[
        {
          "name":"stdout",
          "text":[
            "Best parameters:  {'metric': 'manhattan', 'n_neighbors': 28}\n",
            "Training set score with best parameters:  0.7934918648310388\n",
            "Test set score with best parameters:  0.8014981273408239\n"
          ],
          "output_type":"stream"
        }
      ],
      "metadata":{
        
      }
    },
    {
      "cell_type":"code",
      "source":[
        "\n",
        "knn = KNeighborsClassifier(n_neighbors=28,metric='manhattan')\n",
        "# calling the fit method\n",
        "knn.fit(X_train_selectedRFE, y_train)\n",
        "\n",
        "# making predictions\n",
        "pred = knn.predict(X_test_selectedRFE)\n",
        "\n",
        "plot_confusion_matrix(knn, X_test_selectedRFE, y_test, include_values = True, values_format = 'd')"
      ],
      "execution_count":110,
      "outputs":[
        {
          "data":{
            "text\/plain":[
              "<sklearn.metrics._plot.confusion_matrix.ConfusionMatrixDisplay at 0x7fbf6f9ee8e0>"
            ],
            "image\/png":"[encoded data removed]"
          },
          "metadata":{
            "image\/png":{
              
            }
          },
          "output_type":"display_data"
        }
      ],
      "metadata":{
        
      }
    },
    {
      "cell_type":"markdown",
      "source":[
        "### Confusion Matrix \n",
        "\n",
        "The confusion matrix shows the proportion of true label to predicted label. There are 93 true positive cases, 30 false negative cases, 23 false positive cases, and 121 true negative cases."
      ],
      "attachments":{
        
      },
      "metadata":{
        
      }
    },
    {
      "cell_type":"code",
      "source":[
        "# Gridsearch for Deccision Tree with cross validation when all features are selected\n",
        "def grid_search_DT_without_selection(max_depth_list,criterion_list,splitter_list):\n",
        "    param_grid = {'max_depth':max_depth_list,'criterion':criterion_list,'splitter':splitter_list}\n",
        "    \n",
        "    grid_search = GridSearchCV(DecisionTreeClassifier(),param_grid,cv=5)\n",
        "\n",
        "    grid_search.fit(X=X_train, y=y_train)\n",
        "    \n",
        "    print('Best parameters: ',grid_search.best_params_)\n",
        "    print('Training set score with best parameters: ',grid_search.score(X_train, y_train))\n",
        "    print('Test set score with best parameters: ',grid_search.score(X_test, y_test))"
      ],
      "execution_count":111,
      "outputs":[
        
      ],
      "metadata":{
        
      }
    },
    {
      "cell_type":"code",
      "source":[
        "grid_search_DT_without_selection([1,2,3,4,5,6,7,8,9,10,12,15,20,30,35,40,45,100,150],['gini', 'entropy'],['best', 'random'])"
      ],
      "execution_count":112,
      "outputs":[
        {
          "name":"stdout",
          "text":[
            "Best parameters:  {'criterion': 'entropy', 'max_depth': 7, 'splitter': 'random'}\n",
            "Training set score with best parameters:  0.8685857321652065\n",
            "Test set score with best parameters:  0.7865168539325843\n"
          ],
          "output_type":"stream"
        }
      ],
      "metadata":{
        
      }
    },
    {
      "cell_type":"markdown",
      "source":[
        "## 4. Discussion"
      ],
      "attachments":{
        
      },
      "metadata":{
        
      }
    },
    {
      "cell_type":"markdown",
      "source":[
        "### Summary of Analysis\n",
        "\n",
        "(Data acquisition and wrangling) To analyze our data, we combined four different data sets in order to create a final dataset with 1000 + rows of data. Then we split the data into feature variables and our target variable to prepare for supervised machine learning. We also created multiple data sets with different sets of selected features based on the RFE, univariate and model based feature selection methods. \n",
        "\n",
        "(Data Visualization)\n",
        "These data sets were later used to visualize the correlation or relationships between individual features and the target value through heat maps and scatter plots. To ensure that our data set was balanced, we also visualized the distribution of the target variable using a pie chart. Based on previous literature, we were able to find evidence that some features would have more of an effect on target variables than others. We did a more in depth analysis of these variables by grouping each variable type by target variable and visualizing the distribution of target variable for each feature variable type.\n",
        "\n",
        "(Machine learning and tuning) In order to test machine learning models, we use two different methods to split train set and test set: one is the default three-quarters and one-quarter separation method, and the other is Crossvalidation. With these two methods, we use the four machine learning models for classification problems to test our dataset. Besides, we execute the machine learning model with and without feature selection, and we use different feature selection methods. K-Nearest Neighbor is the machine learning algorithom that performs best with selected features (using Recursive Feature Elimination) and a default splitting (75% & 25%), achieving an prediction accuracy of 0.798. After optimizing, K-Nearest Neighbor resulted in an accuracy of 0.801. Decision Tree, which is the best algorithom with cross validation with an accuracy of 0.726, improved to an accuracy of 0.745 after optimizing.\n",
        "\n",
        "### Interpretation of Findings\n",
        "***Algorithms Compared***\n",
        "\n",
        "We compared the K-Nearest Neighbor, Support Vector Machine, Gaussian Naive Bayes, and Decision Tree algorithms during this project. \n",
        "\n",
        "***Algorithms with Best Performance***\n",
        "\n",
        "k-Nearest Neighbor is the best predictor of heart disease with RFE features selection when the dataset is split by a default method into 75% and 25%. It achieved an accuracy on the testing set of .798.\n",
        "\n",
        "***Algorithms Used for Tuning***\n",
        "\n",
        "According to the comparison results of the four algorithms, we use k-Nearest Neighbor as an algorithm for optimization in the process of using traditional separation methods and RFE selected features, since k-Nearest Neighbor has the highest accuracy of 0.783 for a testing set in the case. When it comes to Cross Validation, Decision Tree resulted in a highest prediction accuracy of 0.726 when all features are used, we used Decision Tree for optimization under the case. \n",
        "\n",
        "***Evaluation after Optimization***\n",
        "\n",
        "After tuning and optimization, we saw small improvement in both K-Nearest Neighbor and Decision Tree. The best result with an accracy improved from 0.798 to 0.801 for K-Nearest Neighbor (with default spliting and selected features) occurs when we use 'manhattan' metric and the n_neighbors of 28. The best result with an accuracy improved from 0.726 to 0.745 for Decision Tree (with cross validation with all features) occurs when we use a criterion of 'gini', a max_depth of 6, a splitter of 'random'.\n",
        "\n",
        "\n",
        "### Our Original Research Questions\n",
        "\n",
        "***Is an increase in cholesterol correlated with the onset of heart disease?***\n",
        "\n",
        "The value of chol, as known as cholesterol was one of the most important features generated by the algorithm systems, which suggests the diagnosis of heart disease is closely related to value of chol. However, these results were not mimicked in our data exploration part where we examined the frequency of heart disease cases at varying levels of cholesterol by grouping cholesterol into 5 different categories. From the results of these figures, it seems that cholesterol is not a strong indicator of heart disease. These contrasting findings on the effect of cholesterol is in accordance with the previous literature which suggests that the long standing belief that cholesterol is an indicator of heart disease may not be accurate. \n",
        "\n",
        "\n",
        "***Does ST depression indicate the presence of heart disease?***\n",
        "\n",
        "The two best identifiers of ST depression in this dataset are oldpeak and slp, so in order to determine whether or not ST depression could indicate the presence of heart disease, we studied these two features. Both oldpeak and slp were selected as feature variables in some feature engineering studies, suggesting that they are critical in predicting the onset of heart disease.\n",
        "\n",
        "When exploring the relationship between slope of the peak exercise ST segment(slp) and the target value, we plotted the frequency of different types of electrocardiogram slopes grouped based on target values. From this, it is evident that the flat slope resulted in more target values with > 50% diameter narrowing. This indicates that there is some correlation between slope and presence of heart disease. However, ST depression (oldpeak) could not indicate the presence of heart disease in our dataset. We are measuring the oldpeak (ST depression induced by exercise relative to rest), and it has a weak negative correlation with age. Age is the one feature that has a positive correlation with the result of Heart Disease, which means oldpeak has weak negative correlation with the result of Heart Disease. \n",
        "\n",
        "\n",
        "***Are patients with Thalassemia more likely to suffer from heart disease than patients without Thalassemia?***\n",
        "\n",
        "Yes, people with Thalassemia are more likely to suffer from heart disease. We all know that thalassemia is a very serious hereditary blood disease, which can lead to lower than normal levels of hemoglobin. In this dataset, we use 3, 6, and 7 to represent normal, fixed defect, and reversible defects respectively. In our dataset, most of the patients with heart disease do not suffer from thalassemia, which shows that there is no strong and inevitable relationship between thalassemia and heart disease. On the other hand, the people who have Thalassemia, probably have Heart Disease at the same time. \n",
        "\n",
        "***Can we train a supervised machine learning model to accurately predict heart disease? If so, will k-Nearest Neighbor be the machine learning algorithm that works best?***\n",
        "\n",
        "Yes, we did train some supervised machine learning models to accurately predict heart disease. K-Nearest Neighbor is the best predictor of heart disease with Recursive Feature Elimination features selection when the dataset is split by a default method into 75% and 25%. It resulted in an accuracy on the testing set of .798.\n",
        "\n",
        "\n",
        "***Will features selection drastically improve the accuracies of the models?***\n",
        "\n",
        "No, using feature selection did NOT Drastically improve the accuracies of the models. According to the results, only the performance of k-Nearest Neighbor has been greatly improved by feature selection(imporved more than 25%), whereas other mechine learning algorithoms(Support Vector Machine, Gaussian Naive Bayes, Decision Tree) with feature selction ultimately resulted in the similiar precision accuracies to these models without features selection (did not change more than 1%).\n",
        "\n",
        "***Will different split methods drastically change the predictions accuracies of models?***\n",
        "\n",
        "No, using different splitting methods do NOT drastically improve the accuracies of the models. According to the results, all of four mechine learning algorithoms(Support Vector Machine, Gaussian Naive Bayes, Decision Tree) with the dataset that is splitted by cross validation (kfold=10) ultimately resulted in the similiar precision accuracies to these models with the dataset splitted into 75% and 25% (did not change more than 1%).\n",
        "\n",
        "### Future Work\n",
        "\n",
        "To further increase the accuracy of our machine learning model, it may be helpful to look into other algorithms such as neural networks or hybrid systems, which may be more accurate than the machine learning models described here. Previous studies have shown hybrid systems such as a stacked support vector machine model or a linear model integrated with random forest have generated high prediction accuracies > 88% (Muhammad et al., 2020). Therefore, it would be beneficial in the future to look into hybrid algorithms with K-Nearest Neighbor, as that was the algorithm which was found to create the most accurate machine learning model in this study. \n",
        "\n",
        "Another way to increase our prediction accuracy is to find a dataset which has less missing values. Some of the features in our dataset had rows which were missing values, which could have lead to inaccuracies in building the machine learning model. However, dropping all the rows with missing values would lead to a diminished data set size which would not also decrease our prediction accuracy.  \n",
        "\n",
        "\n",
        "Muhammad, Y., Tahir, M., Hayat, M., & Chong, K. T. (2020). Early and accurate detection and diagnosis of heart disease using intelligent computational model. Scientific Reports, 10(1). https:\/\/doi.org\/10.1038\/s41598-020-76635-9 "
      ],
      "attachments":{
        
      },
      "metadata":{
        
      }
    },
    {
      "cell_type":"markdown",
      "source":[
        "<hr style=\"height:2px; border:none; color:black; background-color:black;\">"
      ],
      "attachments":{
        
      },
      "metadata":{
        
      }
    },
    {
      "cell_type":"markdown",
      "source":[
        "### CONTRIBUTIONS\n",
        "\n",
        "Qi Li: \n",
        "Visualization, Model training, Model testing and optimization, Discussion\n",
        "\n",
        "Ruoxuan Wang:\n",
        "Executive summary, Discussion, Data Visualization, Introduction\n",
        "\n",
        "Yuxi Shen:\n",
        " Method : Data Acquisiton and variables, Data Wrangling, Visulization explanation."
      ],
      "attachments":{
        
      },
      "metadata":{
        
      }
    },
    {
      "cell_type":"code",
      "source":[
        
      ],
      "execution_count":0,
      "outputs":[
        
      ],
      "metadata":{
        
      }
    }
  ],
  "metadata":{
    
  },
  "nbformat":4,
  "nbformat_minor":0
}